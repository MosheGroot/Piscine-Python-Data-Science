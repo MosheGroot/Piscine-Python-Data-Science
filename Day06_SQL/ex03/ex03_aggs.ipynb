{
 "cells": [
  {
   "cell_type": "markdown",
   "id": "4b17ba9c",
   "metadata": {},
   "source": [
    "# Exercise 03 : Aggregations\n",
    "## Required data"
   ]
  },
  {
   "cell_type": "code",
   "execution_count": 1,
   "id": "9865b8b3",
   "metadata": {
    "scrolled": true
   },
   "outputs": [
    {
     "name": "stdout",
     "output_type": "stream",
     "text": [
      "../data/checking-logs.sqlite\r\n"
     ]
    }
   ],
   "source": [
    "%ls ../data/checking-logs.sqlite"
   ]
  },
  {
   "cell_type": "markdown",
   "id": "08b97303",
   "metadata": {},
   "source": [
    "## Imports"
   ]
  },
  {
   "cell_type": "code",
   "execution_count": 2,
   "id": "56284dd2",
   "metadata": {},
   "outputs": [],
   "source": [
    "import pandas as pd\n",
    "import sqlite3"
   ]
  },
  {
   "cell_type": "markdown",
   "id": "af62f6f3",
   "metadata": {},
   "source": [
    "## Connect to DB"
   ]
  },
  {
   "cell_type": "code",
   "execution_count": 3,
   "id": "df9d0b28",
   "metadata": {},
   "outputs": [],
   "source": [
    "db_connection = sqlite3.connect('../data/checking-logs.sqlite')"
   ]
  },
  {
   "cell_type": "markdown",
   "id": "e110e8e8",
   "metadata": {},
   "source": [
    "## `test` table"
   ]
  },
  {
   "cell_type": "code",
   "execution_count": 4,
   "id": "f5a90489",
   "metadata": {
    "scrolled": true
   },
   "outputs": [
    {
     "data": {
      "text/html": [
       "<div>\n",
       "<style scoped>\n",
       "    .dataframe tbody tr th:only-of-type {\n",
       "        vertical-align: middle;\n",
       "    }\n",
       "\n",
       "    .dataframe tbody tr th {\n",
       "        vertical-align: top;\n",
       "    }\n",
       "\n",
       "    .dataframe thead th {\n",
       "        text-align: right;\n",
       "    }\n",
       "</style>\n",
       "<table border=\"1\" class=\"dataframe\">\n",
       "  <thead>\n",
       "    <tr style=\"text-align: right;\">\n",
       "      <th></th>\n",
       "      <th>cid</th>\n",
       "      <th>name</th>\n",
       "      <th>type</th>\n",
       "      <th>notnull</th>\n",
       "      <th>dflt_value</th>\n",
       "      <th>pk</th>\n",
       "    </tr>\n",
       "  </thead>\n",
       "  <tbody>\n",
       "    <tr>\n",
       "      <th>0</th>\n",
       "      <td>0</td>\n",
       "      <td>index</td>\n",
       "      <td>INTEGER</td>\n",
       "      <td>0</td>\n",
       "      <td>None</td>\n",
       "      <td>0</td>\n",
       "    </tr>\n",
       "    <tr>\n",
       "      <th>1</th>\n",
       "      <td>1</td>\n",
       "      <td>uid</td>\n",
       "      <td>TEXT</td>\n",
       "      <td>0</td>\n",
       "      <td>None</td>\n",
       "      <td>0</td>\n",
       "    </tr>\n",
       "    <tr>\n",
       "      <th>2</th>\n",
       "      <td>2</td>\n",
       "      <td>labname</td>\n",
       "      <td>TEXT</td>\n",
       "      <td>0</td>\n",
       "      <td>None</td>\n",
       "      <td>0</td>\n",
       "    </tr>\n",
       "    <tr>\n",
       "      <th>3</th>\n",
       "      <td>3</td>\n",
       "      <td>first_commit_ts</td>\n",
       "      <td>TIMESTAMP</td>\n",
       "      <td>0</td>\n",
       "      <td>None</td>\n",
       "      <td>0</td>\n",
       "    </tr>\n",
       "    <tr>\n",
       "      <th>4</th>\n",
       "      <td>4</td>\n",
       "      <td>first_view_ts</td>\n",
       "      <td>TIMESTAMP</td>\n",
       "      <td>0</td>\n",
       "      <td>None</td>\n",
       "      <td>0</td>\n",
       "    </tr>\n",
       "  </tbody>\n",
       "</table>\n",
       "</div>"
      ],
      "text/plain": [
       "   cid             name       type  notnull dflt_value  pk\n",
       "0    0            index    INTEGER        0       None   0\n",
       "1    1              uid       TEXT        0       None   0\n",
       "2    2          labname       TEXT        0       None   0\n",
       "3    3  first_commit_ts  TIMESTAMP        0       None   0\n",
       "4    4    first_view_ts  TIMESTAMP        0       None   0"
      ]
     },
     "execution_count": 4,
     "metadata": {},
     "output_type": "execute_result"
    }
   ],
   "source": [
    "pd.read_sql(sql='PRAGMA table_info(test);', con=db_connection)"
   ]
  },
  {
   "cell_type": "code",
   "execution_count": 5,
   "id": "26340f50",
   "metadata": {
    "scrolled": true
   },
   "outputs": [
    {
     "data": {
      "text/html": [
       "<div>\n",
       "<style scoped>\n",
       "    .dataframe tbody tr th:only-of-type {\n",
       "        vertical-align: middle;\n",
       "    }\n",
       "\n",
       "    .dataframe tbody tr th {\n",
       "        vertical-align: top;\n",
       "    }\n",
       "\n",
       "    .dataframe thead th {\n",
       "        text-align: right;\n",
       "    }\n",
       "</style>\n",
       "<table border=\"1\" class=\"dataframe\">\n",
       "  <thead>\n",
       "    <tr style=\"text-align: right;\">\n",
       "      <th></th>\n",
       "      <th>uid</th>\n",
       "      <th>labname</th>\n",
       "      <th>first_commit_ts</th>\n",
       "      <th>first_view_ts</th>\n",
       "    </tr>\n",
       "    <tr>\n",
       "      <th>index</th>\n",
       "      <th></th>\n",
       "      <th></th>\n",
       "      <th></th>\n",
       "      <th></th>\n",
       "    </tr>\n",
       "  </thead>\n",
       "  <tbody>\n",
       "    <tr>\n",
       "      <th>3</th>\n",
       "      <td>user_17</td>\n",
       "      <td>project1</td>\n",
       "      <td>2020-04-18 07:56:45.408648</td>\n",
       "      <td>2020-04-18 10:56:55.833899</td>\n",
       "    </tr>\n",
       "    <tr>\n",
       "      <th>4</th>\n",
       "      <td>user_30</td>\n",
       "      <td>laba04</td>\n",
       "      <td>2020-04-18 13:36:53.971502</td>\n",
       "      <td>2020-04-17 22:46:26.785035</td>\n",
       "    </tr>\n",
       "    <tr>\n",
       "      <th>7</th>\n",
       "      <td>user_30</td>\n",
       "      <td>laba04s</td>\n",
       "      <td>2020-04-18 14:51:37.498399</td>\n",
       "      <td>2020-04-17 22:46:26.785035</td>\n",
       "    </tr>\n",
       "    <tr>\n",
       "      <th>8</th>\n",
       "      <td>user_14</td>\n",
       "      <td>laba04</td>\n",
       "      <td>2020-04-18 15:14:00.312338</td>\n",
       "      <td>2020-04-18 10:53:52.623447</td>\n",
       "    </tr>\n",
       "    <tr>\n",
       "      <th>11</th>\n",
       "      <td>user_14</td>\n",
       "      <td>laba04s</td>\n",
       "      <td>2020-04-18 22:30:30.247628</td>\n",
       "      <td>2020-04-18 10:53:52.623447</td>\n",
       "    </tr>\n",
       "    <tr>\n",
       "      <th>18</th>\n",
       "      <td>user_19</td>\n",
       "      <td>laba04</td>\n",
       "      <td>2020-04-20 19:05:01.297780</td>\n",
       "      <td>2020-04-21 20:30:38.034966</td>\n",
       "    </tr>\n",
       "    <tr>\n",
       "      <th>19</th>\n",
       "      <td>user_25</td>\n",
       "      <td>laba04</td>\n",
       "      <td>2020-04-20 19:16:50.673054</td>\n",
       "      <td>2020-05-09 23:54:54.260791</td>\n",
       "    </tr>\n",
       "    <tr>\n",
       "      <th>20</th>\n",
       "      <td>user_21</td>\n",
       "      <td>laba04</td>\n",
       "      <td>2020-04-21 17:48:00.487806</td>\n",
       "      <td>2020-04-22 22:40:36.824081</td>\n",
       "    </tr>\n",
       "    <tr>\n",
       "      <th>21</th>\n",
       "      <td>user_30</td>\n",
       "      <td>project1</td>\n",
       "      <td>2020-04-22 12:36:24.053518</td>\n",
       "      <td>2020-04-17 22:46:26.785035</td>\n",
       "    </tr>\n",
       "    <tr>\n",
       "      <th>23</th>\n",
       "      <td>user_21</td>\n",
       "      <td>laba04s</td>\n",
       "      <td>2020-04-22 20:09:21.857747</td>\n",
       "      <td>2020-04-22 22:40:36.824081</td>\n",
       "    </tr>\n",
       "  </tbody>\n",
       "</table>\n",
       "</div>"
      ],
      "text/plain": [
       "           uid   labname             first_commit_ts  \\\n",
       "index                                                  \n",
       "3      user_17  project1  2020-04-18 07:56:45.408648   \n",
       "4      user_30    laba04  2020-04-18 13:36:53.971502   \n",
       "7      user_30   laba04s  2020-04-18 14:51:37.498399   \n",
       "8      user_14    laba04  2020-04-18 15:14:00.312338   \n",
       "11     user_14   laba04s  2020-04-18 22:30:30.247628   \n",
       "18     user_19    laba04  2020-04-20 19:05:01.297780   \n",
       "19     user_25    laba04  2020-04-20 19:16:50.673054   \n",
       "20     user_21    laba04  2020-04-21 17:48:00.487806   \n",
       "21     user_30  project1  2020-04-22 12:36:24.053518   \n",
       "23     user_21   laba04s  2020-04-22 20:09:21.857747   \n",
       "\n",
       "                    first_view_ts  \n",
       "index                              \n",
       "3      2020-04-18 10:56:55.833899  \n",
       "4      2020-04-17 22:46:26.785035  \n",
       "7      2020-04-17 22:46:26.785035  \n",
       "8      2020-04-18 10:53:52.623447  \n",
       "11     2020-04-18 10:53:52.623447  \n",
       "18     2020-04-21 20:30:38.034966  \n",
       "19     2020-05-09 23:54:54.260791  \n",
       "20     2020-04-22 22:40:36.824081  \n",
       "21     2020-04-17 22:46:26.785035  \n",
       "23     2020-04-22 22:40:36.824081  "
      ]
     },
     "execution_count": 5,
     "metadata": {},
     "output_type": "execute_result"
    }
   ],
   "source": [
    "pd.read_sql(sql='SELECT * FROM test LIMIT 10;', con=db_connection, index_col='index')"
   ]
  },
  {
   "cell_type": "markdown",
   "id": "92f0da62",
   "metadata": {},
   "source": [
    "## `deadlines` table"
   ]
  },
  {
   "cell_type": "code",
   "execution_count": 6,
   "id": "94c7c760",
   "metadata": {
    "scrolled": false
   },
   "outputs": [
    {
     "data": {
      "text/html": [
       "<div>\n",
       "<style scoped>\n",
       "    .dataframe tbody tr th:only-of-type {\n",
       "        vertical-align: middle;\n",
       "    }\n",
       "\n",
       "    .dataframe tbody tr th {\n",
       "        vertical-align: top;\n",
       "    }\n",
       "\n",
       "    .dataframe thead th {\n",
       "        text-align: right;\n",
       "    }\n",
       "</style>\n",
       "<table border=\"1\" class=\"dataframe\">\n",
       "  <thead>\n",
       "    <tr style=\"text-align: right;\">\n",
       "      <th></th>\n",
       "      <th>cid</th>\n",
       "      <th>name</th>\n",
       "      <th>type</th>\n",
       "      <th>notnull</th>\n",
       "      <th>dflt_value</th>\n",
       "      <th>pk</th>\n",
       "    </tr>\n",
       "  </thead>\n",
       "  <tbody>\n",
       "    <tr>\n",
       "      <th>0</th>\n",
       "      <td>0</td>\n",
       "      <td>index</td>\n",
       "      <td>INTEGER</td>\n",
       "      <td>0</td>\n",
       "      <td>None</td>\n",
       "      <td>0</td>\n",
       "    </tr>\n",
       "    <tr>\n",
       "      <th>1</th>\n",
       "      <td>1</td>\n",
       "      <td>labs</td>\n",
       "      <td>TEXT</td>\n",
       "      <td>0</td>\n",
       "      <td>None</td>\n",
       "      <td>0</td>\n",
       "    </tr>\n",
       "    <tr>\n",
       "      <th>2</th>\n",
       "      <td>2</td>\n",
       "      <td>deadlines</td>\n",
       "      <td>INTEGER</td>\n",
       "      <td>0</td>\n",
       "      <td>None</td>\n",
       "      <td>0</td>\n",
       "    </tr>\n",
       "  </tbody>\n",
       "</table>\n",
       "</div>"
      ],
      "text/plain": [
       "   cid       name     type  notnull dflt_value  pk\n",
       "0    0      index  INTEGER        0       None   0\n",
       "1    1       labs     TEXT        0       None   0\n",
       "2    2  deadlines  INTEGER        0       None   0"
      ]
     },
     "execution_count": 6,
     "metadata": {},
     "output_type": "execute_result"
    }
   ],
   "source": [
    "pd.read_sql(sql='PRAGMA table_info(deadlines);', con=db_connection)"
   ]
  },
  {
   "cell_type": "code",
   "execution_count": 7,
   "id": "4022acff",
   "metadata": {
    "scrolled": true
   },
   "outputs": [
    {
     "data": {
      "text/html": [
       "<div>\n",
       "<style scoped>\n",
       "    .dataframe tbody tr th:only-of-type {\n",
       "        vertical-align: middle;\n",
       "    }\n",
       "\n",
       "    .dataframe tbody tr th {\n",
       "        vertical-align: top;\n",
       "    }\n",
       "\n",
       "    .dataframe thead th {\n",
       "        text-align: right;\n",
       "    }\n",
       "</style>\n",
       "<table border=\"1\" class=\"dataframe\">\n",
       "  <thead>\n",
       "    <tr style=\"text-align: right;\">\n",
       "      <th></th>\n",
       "      <th>labs</th>\n",
       "      <th>deadlines</th>\n",
       "    </tr>\n",
       "    <tr>\n",
       "      <th>index</th>\n",
       "      <th></th>\n",
       "      <th></th>\n",
       "    </tr>\n",
       "  </thead>\n",
       "  <tbody>\n",
       "    <tr>\n",
       "      <th>0</th>\n",
       "      <td>laba04</td>\n",
       "      <td>1587945599</td>\n",
       "    </tr>\n",
       "    <tr>\n",
       "      <th>1</th>\n",
       "      <td>laba04s</td>\n",
       "      <td>1587945599</td>\n",
       "    </tr>\n",
       "    <tr>\n",
       "      <th>2</th>\n",
       "      <td>laba05</td>\n",
       "      <td>1588550399</td>\n",
       "    </tr>\n",
       "    <tr>\n",
       "      <th>4</th>\n",
       "      <td>laba06</td>\n",
       "      <td>1590364799</td>\n",
       "    </tr>\n",
       "    <tr>\n",
       "      <th>5</th>\n",
       "      <td>laba06s</td>\n",
       "      <td>1590364799</td>\n",
       "    </tr>\n",
       "    <tr>\n",
       "      <th>3</th>\n",
       "      <td>project1</td>\n",
       "      <td>1589673599</td>\n",
       "    </tr>\n",
       "  </tbody>\n",
       "</table>\n",
       "</div>"
      ],
      "text/plain": [
       "           labs   deadlines\n",
       "index                      \n",
       "0        laba04  1587945599\n",
       "1       laba04s  1587945599\n",
       "2        laba05  1588550399\n",
       "4        laba06  1590364799\n",
       "5       laba06s  1590364799\n",
       "3      project1  1589673599"
      ]
     },
     "execution_count": 7,
     "metadata": {},
     "output_type": "execute_result"
    }
   ],
   "source": [
    "pd.read_sql(sql='SELECT * FROM deadlines LIMIT 10;', con=db_connection, index_col='index')"
   ]
  },
  {
   "cell_type": "markdown",
   "id": "6d957ead",
   "metadata": {},
   "source": [
    "## Find among all the users the _minimum_ value of the delta between the first commit of the user and the deadline of the corresponding lab (without `project1`)"
   ]
  },
  {
   "cell_type": "code",
   "execution_count": 8,
   "id": "b10eabd5",
   "metadata": {
    "scrolled": false
   },
   "outputs": [
    {
     "data": {
      "text/html": [
       "<div>\n",
       "<style scoped>\n",
       "    .dataframe tbody tr th:only-of-type {\n",
       "        vertical-align: middle;\n",
       "    }\n",
       "\n",
       "    .dataframe tbody tr th {\n",
       "        vertical-align: top;\n",
       "    }\n",
       "\n",
       "    .dataframe thead th {\n",
       "        text-align: right;\n",
       "    }\n",
       "</style>\n",
       "<table border=\"1\" class=\"dataframe\">\n",
       "  <thead>\n",
       "    <tr style=\"text-align: right;\">\n",
       "      <th></th>\n",
       "      <th>uid</th>\n",
       "      <th>MIN(diff)</th>\n",
       "    </tr>\n",
       "  </thead>\n",
       "  <tbody>\n",
       "    <tr>\n",
       "      <th>0</th>\n",
       "      <td>user_30</td>\n",
       "      <td>-202</td>\n",
       "    </tr>\n",
       "  </tbody>\n",
       "</table>\n",
       "</div>"
      ],
      "text/plain": [
       "       uid  MIN(diff)\n",
       "0  user_30       -202"
      ]
     },
     "execution_count": 8,
     "metadata": {},
     "output_type": "execute_result"
    }
   ],
   "source": [
    "sql_query=\"\"\"\n",
    "SELECT\n",
    "    uid,\n",
    "    MIN(diff)\n",
    "FROM (\n",
    "    SELECT\n",
    "        test.uid,\n",
    "        test.labname,\n",
    "        CAST((julianday(test.first_commit_ts) - julianday(deadlines.deadlines, 'unixepoch')) * 24 AS INT) AS diff\n",
    "    FROM\n",
    "        test\n",
    "    INNER JOIN \n",
    "        deadlines\n",
    "    ON\n",
    "        test.labname != 'project1'\n",
    "        AND test.labname = deadlines.labs\n",
    ");\n",
    "\"\"\"\n",
    "\n",
    "df_min = pd.read_sql(sql=sql_query, con=db_connection)\n",
    "df_min"
   ]
  },
  {
   "cell_type": "markdown",
   "id": "4b054d09",
   "metadata": {},
   "source": [
    "## Find among all the users the _maximum_ value of the delta between the first commit of the user and the deadline of the corresponding lab (without `project1`)\n"
   ]
  },
  {
   "cell_type": "code",
   "execution_count": 9,
   "id": "bc5e6135",
   "metadata": {
    "scrolled": false
   },
   "outputs": [
    {
     "data": {
      "text/html": [
       "<div>\n",
       "<style scoped>\n",
       "    .dataframe tbody tr th:only-of-type {\n",
       "        vertical-align: middle;\n",
       "    }\n",
       "\n",
       "    .dataframe tbody tr th {\n",
       "        vertical-align: top;\n",
       "    }\n",
       "\n",
       "    .dataframe thead th {\n",
       "        text-align: right;\n",
       "    }\n",
       "</style>\n",
       "<table border=\"1\" class=\"dataframe\">\n",
       "  <thead>\n",
       "    <tr style=\"text-align: right;\">\n",
       "      <th></th>\n",
       "      <th>uid</th>\n",
       "      <th>MAX(diff)</th>\n",
       "    </tr>\n",
       "  </thead>\n",
       "  <tbody>\n",
       "    <tr>\n",
       "      <th>0</th>\n",
       "      <td>user_25</td>\n",
       "      <td>-2</td>\n",
       "    </tr>\n",
       "  </tbody>\n",
       "</table>\n",
       "</div>"
      ],
      "text/plain": [
       "       uid  MAX(diff)\n",
       "0  user_25         -2"
      ]
     },
     "execution_count": 9,
     "metadata": {},
     "output_type": "execute_result"
    }
   ],
   "source": [
    "sql_query=\"\"\"\n",
    "SELECT\n",
    "    uid,\n",
    "    MAX(diff)\n",
    "FROM (\n",
    "    SELECT\n",
    "        test.uid,\n",
    "        test.labname,\n",
    "        CAST((julianday(test.first_commit_ts) - julianday(deadlines.deadlines, 'unixepoch')) * 24 AS INT) AS diff\n",
    "    FROM\n",
    "        test\n",
    "    INNER JOIN \n",
    "        deadlines\n",
    "    ON\n",
    "        test.labname != 'project1'\n",
    "        AND test.labname = deadlines.labs\n",
    ");\n",
    "\"\"\"\n",
    "\n",
    "df_max = pd.read_sql(sql=sql_query, con=db_connection)\n",
    "df_max"
   ]
  },
  {
   "cell_type": "markdown",
   "id": "d9d1f13f",
   "metadata": {},
   "source": [
    "## Find the average value of the delta between the first commit of the user and the deadline of the corresponding lab (without `project1`)\n"
   ]
  },
  {
   "cell_type": "code",
   "execution_count": 10,
   "id": "8e5f41b0",
   "metadata": {
    "scrolled": false
   },
   "outputs": [
    {
     "data": {
      "text/html": [
       "<div>\n",
       "<style scoped>\n",
       "    .dataframe tbody tr th:only-of-type {\n",
       "        vertical-align: middle;\n",
       "    }\n",
       "\n",
       "    .dataframe tbody tr th {\n",
       "        vertical-align: top;\n",
       "    }\n",
       "\n",
       "    .dataframe thead th {\n",
       "        text-align: right;\n",
       "    }\n",
       "</style>\n",
       "<table border=\"1\" class=\"dataframe\">\n",
       "  <thead>\n",
       "    <tr style=\"text-align: right;\">\n",
       "      <th></th>\n",
       "      <th>AVG(diff)</th>\n",
       "    </tr>\n",
       "  </thead>\n",
       "  <tbody>\n",
       "    <tr>\n",
       "      <th>0</th>\n",
       "      <td>-89.125</td>\n",
       "    </tr>\n",
       "  </tbody>\n",
       "</table>\n",
       "</div>"
      ],
      "text/plain": [
       "   AVG(diff)\n",
       "0    -89.125"
      ]
     },
     "execution_count": 10,
     "metadata": {},
     "output_type": "execute_result"
    }
   ],
   "source": [
    "sql_query=\"\"\"\n",
    "SELECT\n",
    "    AVG(diff)\n",
    "FROM (\n",
    "    SELECT\n",
    "        test.uid,\n",
    "        test.labname,\n",
    "        CAST((julianday(test.first_commit_ts) - julianday(deadlines.deadlines, 'unixepoch')) * 24 AS INT) AS diff\n",
    "    FROM\n",
    "        test\n",
    "    INNER JOIN \n",
    "        deadlines\n",
    "    ON\n",
    "        test.labname != 'project1'\n",
    "        AND test.labname = deadlines.labs\n",
    ");\n",
    "\"\"\"\n",
    "\n",
    "df_avg = pd.read_sql(sql=sql_query, con=db_connection)\n",
    "df_avg"
   ]
  },
  {
   "cell_type": "markdown",
   "id": "4eefeaa5",
   "metadata": {},
   "source": [
    "## Test the hypothesis that the users who visited the newsfeed just a few times have the lower delta between the first commit and the deadline"
   ]
  },
  {
   "cell_type": "code",
   "execution_count": 11,
   "id": "65b21d1c",
   "metadata": {
    "scrolled": false
   },
   "outputs": [
    {
     "data": {
      "text/html": [
       "<div>\n",
       "<style scoped>\n",
       "    .dataframe tbody tr th:only-of-type {\n",
       "        vertical-align: middle;\n",
       "    }\n",
       "\n",
       "    .dataframe tbody tr th {\n",
       "        vertical-align: top;\n",
       "    }\n",
       "\n",
       "    .dataframe thead th {\n",
       "        text-align: right;\n",
       "    }\n",
       "</style>\n",
       "<table border=\"1\" class=\"dataframe\">\n",
       "  <thead>\n",
       "    <tr style=\"text-align: right;\">\n",
       "      <th></th>\n",
       "      <th>uid</th>\n",
       "      <th>avg_diff</th>\n",
       "      <th>pageviews</th>\n",
       "    </tr>\n",
       "  </thead>\n",
       "  <tbody>\n",
       "    <tr>\n",
       "      <th>0</th>\n",
       "      <td>user_1</td>\n",
       "      <td>-64.400000</td>\n",
       "      <td>5</td>\n",
       "    </tr>\n",
       "    <tr>\n",
       "      <th>1</th>\n",
       "      <td>user_10</td>\n",
       "      <td>-74.800000</td>\n",
       "      <td>5</td>\n",
       "    </tr>\n",
       "    <tr>\n",
       "      <th>2</th>\n",
       "      <td>user_14</td>\n",
       "      <td>-159.000000</td>\n",
       "      <td>3</td>\n",
       "    </tr>\n",
       "    <tr>\n",
       "      <th>3</th>\n",
       "      <td>user_17</td>\n",
       "      <td>-61.600000</td>\n",
       "      <td>5</td>\n",
       "    </tr>\n",
       "    <tr>\n",
       "      <th>4</th>\n",
       "      <td>user_18</td>\n",
       "      <td>-5.666667</td>\n",
       "      <td>3</td>\n",
       "    </tr>\n",
       "    <tr>\n",
       "      <th>5</th>\n",
       "      <td>user_19</td>\n",
       "      <td>-98.750000</td>\n",
       "      <td>4</td>\n",
       "    </tr>\n",
       "    <tr>\n",
       "      <th>6</th>\n",
       "      <td>user_21</td>\n",
       "      <td>-95.500000</td>\n",
       "      <td>4</td>\n",
       "    </tr>\n",
       "    <tr>\n",
       "      <th>7</th>\n",
       "      <td>user_25</td>\n",
       "      <td>-92.600000</td>\n",
       "      <td>5</td>\n",
       "    </tr>\n",
       "    <tr>\n",
       "      <th>8</th>\n",
       "      <td>user_28</td>\n",
       "      <td>-86.400000</td>\n",
       "      <td>5</td>\n",
       "    </tr>\n",
       "    <tr>\n",
       "      <th>9</th>\n",
       "      <td>user_3</td>\n",
       "      <td>-105.400000</td>\n",
       "      <td>5</td>\n",
       "    </tr>\n",
       "    <tr>\n",
       "      <th>10</th>\n",
       "      <td>user_30</td>\n",
       "      <td>-145.250000</td>\n",
       "      <td>4</td>\n",
       "    </tr>\n",
       "  </tbody>\n",
       "</table>\n",
       "</div>"
      ],
      "text/plain": [
       "        uid    avg_diff  pageviews\n",
       "0    user_1  -64.400000          5\n",
       "1   user_10  -74.800000          5\n",
       "2   user_14 -159.000000          3\n",
       "3   user_17  -61.600000          5\n",
       "4   user_18   -5.666667          3\n",
       "5   user_19  -98.750000          4\n",
       "6   user_21  -95.500000          4\n",
       "7   user_25  -92.600000          5\n",
       "8   user_28  -86.400000          5\n",
       "9    user_3 -105.400000          5\n",
       "10  user_30 -145.250000          4"
      ]
     },
     "execution_count": 11,
     "metadata": {},
     "output_type": "execute_result"
    }
   ],
   "source": [
    "sql_query=\"\"\"\n",
    "SELECT\n",
    "    uid,\n",
    "    AVG(diff) AS avg_diff,\n",
    "    COUNT(uid) as pageviews\n",
    "FROM (\n",
    "    SELECT\n",
    "        test.uid,\n",
    "        CAST((julianday(test.first_commit_ts) - julianday(deadlines.deadlines, 'unixepoch')) * 24 AS INT) AS diff\n",
    "    FROM\n",
    "        test\n",
    "    INNER JOIN \n",
    "        deadlines\n",
    "    ON\n",
    "        test.labname != 'project1'\n",
    "        AND test.labname = deadlines.labs\n",
    ")\n",
    "GROUP BY\n",
    "    uid\n",
    "\"\"\"\n",
    "\n",
    "views_diff = pd.read_sql(sql=sql_query, con=db_connection)\n",
    "views_diff"
   ]
  },
  {
   "cell_type": "code",
   "execution_count": 12,
   "id": "19e0d0d4",
   "metadata": {},
   "outputs": [
    {
     "data": {
      "text/html": [
       "<div>\n",
       "<style scoped>\n",
       "    .dataframe tbody tr th:only-of-type {\n",
       "        vertical-align: middle;\n",
       "    }\n",
       "\n",
       "    .dataframe tbody tr th {\n",
       "        vertical-align: top;\n",
       "    }\n",
       "\n",
       "    .dataframe thead th {\n",
       "        text-align: right;\n",
       "    }\n",
       "</style>\n",
       "<table border=\"1\" class=\"dataframe\">\n",
       "  <thead>\n",
       "    <tr style=\"text-align: right;\">\n",
       "      <th></th>\n",
       "      <th>avg_diff</th>\n",
       "      <th>pageviews</th>\n",
       "    </tr>\n",
       "  </thead>\n",
       "  <tbody>\n",
       "    <tr>\n",
       "      <th>avg_diff</th>\n",
       "      <td>1.000000</td>\n",
       "      <td>0.117685</td>\n",
       "    </tr>\n",
       "    <tr>\n",
       "      <th>pageviews</th>\n",
       "      <td>0.117685</td>\n",
       "      <td>1.000000</td>\n",
       "    </tr>\n",
       "  </tbody>\n",
       "</table>\n",
       "</div>"
      ],
      "text/plain": [
       "           avg_diff  pageviews\n",
       "avg_diff   1.000000   0.117685\n",
       "pageviews  0.117685   1.000000"
      ]
     },
     "execution_count": 12,
     "metadata": {},
     "output_type": "execute_result"
    }
   ],
   "source": [
    "views_diff.corr()"
   ]
  },
  {
   "cell_type": "markdown",
   "id": "4b6a27ca",
   "metadata": {},
   "source": [
    "## Close the connection"
   ]
  },
  {
   "cell_type": "code",
   "execution_count": 13,
   "id": "7848cce8",
   "metadata": {},
   "outputs": [],
   "source": [
    "db_connection.close()"
   ]
  }
 ],
 "metadata": {
  "kernelspec": {
   "display_name": "Python 3 (ipykernel)",
   "language": "python",
   "name": "python3"
  },
  "language_info": {
   "codemirror_mode": {
    "name": "ipython",
    "version": 3
   },
   "file_extension": ".py",
   "mimetype": "text/x-python",
   "name": "python",
   "nbconvert_exporter": "python",
   "pygments_lexer": "ipython3",
   "version": "3.9.12"
  }
 },
 "nbformat": 4,
 "nbformat_minor": 5
}
