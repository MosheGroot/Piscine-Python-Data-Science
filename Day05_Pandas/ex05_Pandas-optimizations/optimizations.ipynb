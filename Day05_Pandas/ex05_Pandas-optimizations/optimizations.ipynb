{
 "cells": [
  {
   "cell_type": "markdown",
   "id": "d846ab55",
   "metadata": {},
   "source": [
    "# Exercise 04 : Enrichment and transformations\n",
    "## Required data"
   ]
  },
  {
   "cell_type": "code",
   "execution_count": 1,
   "id": "6bc4413e",
   "metadata": {
    "scrolled": false
   },
   "outputs": [
    {
     "name": "stdout",
     "output_type": "stream",
     "text": [
      "../data/fines.csv\n"
     ]
    }
   ],
   "source": [
    "%ls ../data/fines.csv"
   ]
  },
  {
   "cell_type": "markdown",
   "id": "29f50641",
   "metadata": {},
   "source": [
    "## Imports"
   ]
  },
  {
   "cell_type": "code",
   "execution_count": 2,
   "id": "2aab0fa3",
   "metadata": {},
   "outputs": [],
   "source": [
    "import pandas as pd\n",
    "import gc"
   ]
  },
  {
   "cell_type": "markdown",
   "id": "91260c20",
   "metadata": {},
   "source": [
    "## Read the data"
   ]
  },
  {
   "cell_type": "code",
   "execution_count": 3,
   "id": "4e1ef516",
   "metadata": {
    "scrolled": true
   },
   "outputs": [
    {
     "data": {
      "text/html": [
       "<div>\n",
       "<style scoped>\n",
       "    .dataframe tbody tr th:only-of-type {\n",
       "        vertical-align: middle;\n",
       "    }\n",
       "\n",
       "    .dataframe tbody tr th {\n",
       "        vertical-align: top;\n",
       "    }\n",
       "\n",
       "    .dataframe thead th {\n",
       "        text-align: right;\n",
       "    }\n",
       "</style>\n",
       "<table border=\"1\" class=\"dataframe\">\n",
       "  <thead>\n",
       "    <tr style=\"text-align: right;\">\n",
       "      <th></th>\n",
       "      <th>CarNumber</th>\n",
       "      <th>Refund</th>\n",
       "      <th>Fines</th>\n",
       "      <th>Make</th>\n",
       "      <th>Model</th>\n",
       "      <th>Year</th>\n",
       "    </tr>\n",
       "  </thead>\n",
       "  <tbody>\n",
       "    <tr>\n",
       "      <th>0</th>\n",
       "      <td>Y163O8161RUS</td>\n",
       "      <td>2</td>\n",
       "      <td>3200.0</td>\n",
       "      <td>Ford</td>\n",
       "      <td>Focus</td>\n",
       "      <td>1989</td>\n",
       "    </tr>\n",
       "    <tr>\n",
       "      <th>1</th>\n",
       "      <td>E432XX77RUS</td>\n",
       "      <td>1</td>\n",
       "      <td>6500.0</td>\n",
       "      <td>Toyota</td>\n",
       "      <td>Camry</td>\n",
       "      <td>1995</td>\n",
       "    </tr>\n",
       "    <tr>\n",
       "      <th>2</th>\n",
       "      <td>7184TT36RUS</td>\n",
       "      <td>1</td>\n",
       "      <td>2100.0</td>\n",
       "      <td>Ford</td>\n",
       "      <td>Focus</td>\n",
       "      <td>1984</td>\n",
       "    </tr>\n",
       "    <tr>\n",
       "      <th>3</th>\n",
       "      <td>X582HE161RUS</td>\n",
       "      <td>2</td>\n",
       "      <td>2000.0</td>\n",
       "      <td>Ford</td>\n",
       "      <td>Focus</td>\n",
       "      <td>2015</td>\n",
       "    </tr>\n",
       "    <tr>\n",
       "      <th>4</th>\n",
       "      <td>92918M178RUS</td>\n",
       "      <td>1</td>\n",
       "      <td>5700.0</td>\n",
       "      <td>Ford</td>\n",
       "      <td>Focus</td>\n",
       "      <td>2014</td>\n",
       "    </tr>\n",
       "    <tr>\n",
       "      <th>...</th>\n",
       "      <td>...</td>\n",
       "      <td>...</td>\n",
       "      <td>...</td>\n",
       "      <td>...</td>\n",
       "      <td>...</td>\n",
       "      <td>...</td>\n",
       "    </tr>\n",
       "    <tr>\n",
       "      <th>925</th>\n",
       "      <td>X008RUS</td>\n",
       "      <td>2</td>\n",
       "      <td>5224.2</td>\n",
       "      <td>Toyota</td>\n",
       "      <td>Camry</td>\n",
       "      <td>2014</td>\n",
       "    </tr>\n",
       "    <tr>\n",
       "      <th>926</th>\n",
       "      <td>1111RUS</td>\n",
       "      <td>1</td>\n",
       "      <td>14.2</td>\n",
       "      <td>Toyota</td>\n",
       "      <td>Camry</td>\n",
       "      <td>2014</td>\n",
       "    </tr>\n",
       "    <tr>\n",
       "      <th>927</th>\n",
       "      <td>5AAA9RUS</td>\n",
       "      <td>3</td>\n",
       "      <td>512524.2</td>\n",
       "      <td>Toyota</td>\n",
       "      <td>Camry</td>\n",
       "      <td>2014</td>\n",
       "    </tr>\n",
       "    <tr>\n",
       "      <th>928</th>\n",
       "      <td>566RUS</td>\n",
       "      <td>2</td>\n",
       "      <td>124.2</td>\n",
       "      <td>Toyota</td>\n",
       "      <td>Camry</td>\n",
       "      <td>2014</td>\n",
       "    </tr>\n",
       "    <tr>\n",
       "      <th>929</th>\n",
       "      <td>A9999RUS</td>\n",
       "      <td>1</td>\n",
       "      <td>3334.2</td>\n",
       "      <td>Toyota</td>\n",
       "      <td>Camry</td>\n",
       "      <td>2014</td>\n",
       "    </tr>\n",
       "  </tbody>\n",
       "</table>\n",
       "<p>930 rows × 6 columns</p>\n",
       "</div>"
      ],
      "text/plain": [
       "        CarNumber  Refund     Fines    Make  Model  Year\n",
       "0    Y163O8161RUS       2    3200.0    Ford  Focus  1989\n",
       "1     E432XX77RUS       1    6500.0  Toyota  Camry  1995\n",
       "2     7184TT36RUS       1    2100.0    Ford  Focus  1984\n",
       "3    X582HE161RUS       2    2000.0    Ford  Focus  2015\n",
       "4    92918M178RUS       1    5700.0    Ford  Focus  2014\n",
       "..            ...     ...       ...     ...    ...   ...\n",
       "925       X008RUS       2    5224.2  Toyota  Camry  2014\n",
       "926       1111RUS       1      14.2  Toyota  Camry  2014\n",
       "927      5AAA9RUS       3  512524.2  Toyota  Camry  2014\n",
       "928        566RUS       2     124.2  Toyota  Camry  2014\n",
       "929      A9999RUS       1    3334.2  Toyota  Camry  2014\n",
       "\n",
       "[930 rows x 6 columns]"
      ]
     },
     "execution_count": 3,
     "metadata": {},
     "output_type": "execute_result"
    }
   ],
   "source": [
    "df = pd.read_csv('../data/fines.csv')\n",
    "\n",
    "df"
   ]
  },
  {
   "cell_type": "markdown",
   "id": "c1e0d9d2",
   "metadata": {},
   "source": [
    "## Iterations\n",
    "### Calculate `fines / refund * year` for each columns with various methods:\n",
    "#### 1. Loop"
   ]
  },
  {
   "cell_type": "code",
   "execution_count": 4,
   "id": "24d97bfd",
   "metadata": {},
   "outputs": [],
   "source": [
    "def iterations_loop_test(df):\n",
    "    result = []\n",
    "    for i in range(0, len(df)):\n",
    "        result.append(df.iloc[i]['Fines'] / df.iloc[i]['Refund'] * df.iloc[i]['Year'])\n",
    "    df['Calculated'] = result"
   ]
  },
  {
   "cell_type": "code",
   "execution_count": 5,
   "id": "e7205351",
   "metadata": {},
   "outputs": [
    {
     "name": "stdout",
     "output_type": "stream",
     "text": [
      "334 ms ± 6.56 ms per loop (mean ± std. dev. of 7 runs, 1 loop each)\n"
     ]
    }
   ],
   "source": [
    "%%timeit\n",
    "\n",
    "iterations_loop_test(df)\n",
    "df"
   ]
  },
  {
   "cell_type": "markdown",
   "id": "4b9d5054",
   "metadata": {},
   "source": [
    "#### 2. `iterrows()`"
   ]
  },
  {
   "cell_type": "code",
   "execution_count": 6,
   "id": "24d97bfd",
   "metadata": {},
   "outputs": [],
   "source": [
    "def iterations_iterrows_test(df):\n",
    "    result = []\n",
    "    for row in df.iterrows():\n",
    "        result.append(row[1]['Fines'] / row[1]['Refund'] * row[1]['Year'])\n",
    "    df['Calculated'] = result"
   ]
  },
  {
   "cell_type": "code",
   "execution_count": 7,
   "id": "e7205351",
   "metadata": {},
   "outputs": [
    {
     "name": "stdout",
     "output_type": "stream",
     "text": [
      "54 ms ± 3.14 ms per loop (mean ± std. dev. of 7 runs, 10 loops each)\n"
     ]
    }
   ],
   "source": [
    "%%timeit\n",
    "\n",
    "iterations_iterrows_test(df)\n",
    "df"
   ]
  },
  {
   "cell_type": "markdown",
   "id": "4b9d5054",
   "metadata": {},
   "source": [
    "#### 3. `apply()`"
   ]
  },
  {
   "cell_type": "code",
   "execution_count": 8,
   "id": "24d97bfd",
   "metadata": {},
   "outputs": [],
   "source": [
    "def iterations_apply_test(df):\n",
    "    df['Calculated'] = df.apply(lambda row: row['Fines'] / row['Refund'] * row['Year'], axis='columns')"
   ]
  },
  {
   "cell_type": "code",
   "execution_count": 9,
   "id": "e7205351",
   "metadata": {},
   "outputs": [
    {
     "name": "stdout",
     "output_type": "stream",
     "text": [
      "15.7 ms ± 363 µs per loop (mean ± std. dev. of 7 runs, 100 loops each)\n"
     ]
    }
   ],
   "source": [
    "%%timeit\n",
    "\n",
    "iterations_apply_test(df)\n",
    "df"
   ]
  },
  {
   "cell_type": "markdown",
   "id": "4b9d5054",
   "metadata": {},
   "source": [
    "#### 4. using `Series` objects from the `df`"
   ]
  },
  {
   "cell_type": "code",
   "execution_count": 10,
   "id": "24d97bfd",
   "metadata": {},
   "outputs": [],
   "source": [
    "def iterations_series_test(df):\n",
    "    df['Calculated'] = df['Fines'] / df['Refund'] * df['Year']"
   ]
  },
  {
   "cell_type": "code",
   "execution_count": 11,
   "id": "e7205351",
   "metadata": {},
   "outputs": [
    {
     "name": "stdout",
     "output_type": "stream",
     "text": [
      "362 µs ± 4.9 µs per loop (mean ± std. dev. of 7 runs, 1000 loops each)\n"
     ]
    }
   ],
   "source": [
    "%%timeit\n",
    "\n",
    "iterations_series_test(df)\n",
    "df"
   ]
  },
  {
   "cell_type": "markdown",
   "id": "4b9d5054",
   "metadata": {},
   "source": [
    "#### 4. using `Series` objects from the `df` + method `.values`"
   ]
  },
  {
   "cell_type": "code",
   "execution_count": 12,
   "id": "24d97bfd",
   "metadata": {},
   "outputs": [],
   "source": [
    "def iterations_series_values_test(df):\n",
    "    df['Calculated'] = df['Fines'].values / df['Refund'].values * df['Year'].values"
   ]
  },
  {
   "cell_type": "code",
   "execution_count": 13,
   "id": "e7205351",
   "metadata": {},
   "outputs": [
    {
     "name": "stdout",
     "output_type": "stream",
     "text": [
      "179 µs ± 19.9 µs per loop (mean ± std. dev. of 7 runs, 10000 loops each)\n"
     ]
    }
   ],
   "source": [
    "%%timeit\n",
    "\n",
    "iterations_series_values_test(df)\n",
    "df"
   ]
  },
  {
   "cell_type": "markdown",
   "id": "c1e0d9d2",
   "metadata": {},
   "source": [
    "## Indexing\n",
    "### Get a row for a specific CarNumber, for example, `O136HO197RUS`"
   ]
  },
  {
   "cell_type": "code",
   "execution_count": 14,
   "id": "fa79f336",
   "metadata": {},
   "outputs": [
    {
     "name": "stdout",
     "output_type": "stream",
     "text": [
      "389 µs ± 26.8 µs per loop (mean ± std. dev. of 7 runs, 1000 loops each)\n"
     ]
    }
   ],
   "source": [
    "%%timeit\n",
    "\n",
    "df[df['CarNumber'] == 'O136HO197RUS']"
   ]
  },
  {
   "cell_type": "code",
   "execution_count": 15,
   "id": "fa79f336",
   "metadata": {},
   "outputs": [],
   "source": [
    "df.set_index('CarNumber', inplace=True)"
   ]
  },
  {
   "cell_type": "code",
   "execution_count": 16,
   "id": "fa79f336",
   "metadata": {},
   "outputs": [
    {
     "name": "stdout",
     "output_type": "stream",
     "text": [
      "144 µs ± 5.73 µs per loop (mean ± std. dev. of 7 runs, 10000 loops each)\n"
     ]
    }
   ],
   "source": [
    "%%timeit\n",
    "\n",
    "df.loc['O136HO197RUS']"
   ]
  },
  {
   "cell_type": "markdown",
   "id": "c1e0d9d2",
   "metadata": {},
   "source": [
    "## Downcasting"
   ]
  },
  {
   "cell_type": "code",
   "execution_count": 17,
   "id": "eca60ee9",
   "metadata": {},
   "outputs": [
    {
     "name": "stdout",
     "output_type": "stream",
     "text": [
      "<class 'pandas.core.frame.DataFrame'>\n",
      "Index: 930 entries, Y163O8161RUS to A9999RUS\n",
      "Data columns (total 6 columns):\n",
      " #   Column      Non-Null Count  Dtype  \n",
      "---  ------      --------------  -----  \n",
      " 0   Refund      930 non-null    int64  \n",
      " 1   Fines       930 non-null    float64\n",
      " 2   Make        930 non-null    object \n",
      " 3   Model       919 non-null    object \n",
      " 4   Year        930 non-null    int64  \n",
      " 5   Calculated  930 non-null    float64\n",
      "dtypes: float64(2), int64(2), object(2)\n",
      "memory usage: 236.0 KB\n"
     ]
    }
   ],
   "source": [
    "df.info(memory_usage='deep')"
   ]
  },
  {
   "cell_type": "code",
   "execution_count": 18,
   "id": "93239c8d",
   "metadata": {},
   "outputs": [],
   "source": [
    "copy = df.copy()"
   ]
  },
  {
   "cell_type": "code",
   "execution_count": 19,
   "id": "b083751f",
   "metadata": {},
   "outputs": [],
   "source": [
    "fcols = copy.select_dtypes('float').columns\n",
    "icols = copy.select_dtypes('integer').columns\n",
    "\n",
    "copy[fcols] = copy[fcols].apply(pd.to_numeric, downcast='float')\n",
    "copy[icols] = copy[icols].apply(pd.to_numeric, downcast='integer')"
   ]
  },
  {
   "cell_type": "code",
   "execution_count": 20,
   "id": "b8e79903",
   "metadata": {},
   "outputs": [
    {
     "name": "stdout",
     "output_type": "stream",
     "text": [
      "<class 'pandas.core.frame.DataFrame'>\n",
      "Index: 930 entries, Y163O8161RUS to A9999RUS\n",
      "Data columns (total 6 columns):\n",
      " #   Column      Non-Null Count  Dtype  \n",
      "---  ------      --------------  -----  \n",
      " 0   Refund      930 non-null    int8   \n",
      " 1   Fines       930 non-null    float32\n",
      " 2   Make        930 non-null    object \n",
      " 3   Model       919 non-null    object \n",
      " 4   Year        930 non-null    int16  \n",
      " 5   Calculated  930 non-null    float32\n",
      "dtypes: float32(2), int16(1), int8(1), object(2)\n",
      "memory usage: 216.9 KB\n"
     ]
    }
   ],
   "source": [
    "copy.info(memory_usage='deep')"
   ]
  },
  {
   "cell_type": "markdown",
   "id": "ef83b097",
   "metadata": {},
   "source": [
    "## Categories"
   ]
  },
  {
   "cell_type": "code",
   "execution_count": 21,
   "id": "c8b9e129",
   "metadata": {},
   "outputs": [],
   "source": [
    "df[df.select_dtypes(['object']).columns] = df.select_dtypes(['object']).apply(lambda x: x.astype('category'))"
   ]
  },
  {
   "cell_type": "code",
   "execution_count": 22,
   "id": "80e58db6",
   "metadata": {},
   "outputs": [
    {
     "name": "stdout",
     "output_type": "stream",
     "text": [
      "<class 'pandas.core.frame.DataFrame'>\n",
      "Index: 930 entries, Y163O8161RUS to A9999RUS\n",
      "Data columns (total 6 columns):\n",
      " #   Column      Non-Null Count  Dtype   \n",
      "---  ------      --------------  -----   \n",
      " 0   Refund      930 non-null    int64   \n",
      " 1   Fines       930 non-null    float64 \n",
      " 2   Make        930 non-null    category\n",
      " 3   Model       919 non-null    category\n",
      " 4   Year        930 non-null    int64   \n",
      " 5   Calculated  930 non-null    float64 \n",
      "dtypes: category(2), float64(2), int64(2)\n",
      "memory usage: 127.2 KB\n"
     ]
    }
   ],
   "source": [
    "df.info(memory_usage='deep')"
   ]
  },
  {
   "cell_type": "markdown",
   "id": "8e217dbe",
   "metadata": {},
   "source": [
    "## Memory clean"
   ]
  },
  {
   "cell_type": "code",
   "execution_count": 23,
   "id": "9574f91c",
   "metadata": {},
   "outputs": [
    {
     "name": "stdout",
     "output_type": "stream",
     "text": [
      "Nothing done.\n"
     ]
    },
    {
     "data": {
      "text/plain": [
       "129"
      ]
     },
     "execution_count": 23,
     "metadata": {},
     "output_type": "execute_result"
    }
   ],
   "source": [
    "%reset_selective df\n",
    "\n",
    "gc.collect()"
   ]
  }
 ],
 "metadata": {
  "kernelspec": {
   "display_name": "Python 3 (ipykernel)",
   "language": "python",
   "name": "python3"
  },
  "language_info": {
   "codemirror_mode": {
    "name": "ipython",
    "version": 3
   },
   "file_extension": ".py",
   "mimetype": "text/x-python",
   "name": "python",
   "nbconvert_exporter": "python",
   "pygments_lexer": "ipython3",
   "version": "3.7.8"
  }
 },
 "nbformat": 4,
 "nbformat_minor": 5
}
