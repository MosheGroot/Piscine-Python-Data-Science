{
 "cells": [
  {
   "cell_type": "markdown",
   "metadata": {},
   "source": [
    "# Day 09. Exercise 00\n",
    "# Regularization"
   ]
  },
  {
   "cell_type": "markdown",
   "metadata": {},
   "source": [
    "## 0. Imports"
   ]
  },
  {
   "cell_type": "code",
   "execution_count": 1,
   "metadata": {},
   "outputs": [],
   "source": [
    "import pandas as pd\n",
    "import matplotlib.pyplot as plt\n",
    "import seaborn as sns\n",
    "import numpy as np\n",
    "from collections import Counter\n",
    "\n",
    "from sklearn.model_selection import train_test_split, cross_val_score, StratifiedKFold\n",
    "from sklearn import metrics, svm, linear_model, tree, ensemble\n",
    "\n",
    "import pickle\n"
   ]
  },
  {
   "cell_type": "markdown",
   "metadata": {},
   "source": [
    "## 1. Preprocessing"
   ]
  },
  {
   "cell_type": "markdown",
   "metadata": {},
   "source": [
    "1. Read the file `dayofweek.csv` that you used in the previous day to a dataframe.\n",
    "2. Using `train_test_split` with parameters `test_size=0.2`, `random_state=21` get `X_train`, `y_train`, `X_test`, `y_test`. Use the additional parameter `stratify`."
   ]
  },
  {
   "cell_type": "code",
   "execution_count": 2,
   "metadata": {},
   "outputs": [
    {
     "data": {
      "text/html": [
       "<div>\n",
       "<style scoped>\n",
       "    .dataframe tbody tr th:only-of-type {\n",
       "        vertical-align: middle;\n",
       "    }\n",
       "\n",
       "    .dataframe tbody tr th {\n",
       "        vertical-align: top;\n",
       "    }\n",
       "\n",
       "    .dataframe thead th {\n",
       "        text-align: right;\n",
       "    }\n",
       "</style>\n",
       "<table border=\"1\" class=\"dataframe\">\n",
       "  <thead>\n",
       "    <tr style=\"text-align: right;\">\n",
       "      <th></th>\n",
       "      <th>numTrials</th>\n",
       "      <th>hour</th>\n",
       "      <th>dayofweek</th>\n",
       "      <th>uid_user_0</th>\n",
       "      <th>uid_user_1</th>\n",
       "      <th>uid_user_10</th>\n",
       "      <th>uid_user_11</th>\n",
       "      <th>uid_user_12</th>\n",
       "      <th>uid_user_13</th>\n",
       "      <th>uid_user_14</th>\n",
       "      <th>...</th>\n",
       "      <th>labname_lab02</th>\n",
       "      <th>labname_lab03</th>\n",
       "      <th>labname_lab03s</th>\n",
       "      <th>labname_lab05s</th>\n",
       "      <th>labname_laba04</th>\n",
       "      <th>labname_laba04s</th>\n",
       "      <th>labname_laba05</th>\n",
       "      <th>labname_laba06</th>\n",
       "      <th>labname_laba06s</th>\n",
       "      <th>labname_project1</th>\n",
       "    </tr>\n",
       "    <tr>\n",
       "      <th>index</th>\n",
       "      <th></th>\n",
       "      <th></th>\n",
       "      <th></th>\n",
       "      <th></th>\n",
       "      <th></th>\n",
       "      <th></th>\n",
       "      <th></th>\n",
       "      <th></th>\n",
       "      <th></th>\n",
       "      <th></th>\n",
       "      <th></th>\n",
       "      <th></th>\n",
       "      <th></th>\n",
       "      <th></th>\n",
       "      <th></th>\n",
       "      <th></th>\n",
       "      <th></th>\n",
       "      <th></th>\n",
       "      <th></th>\n",
       "      <th></th>\n",
       "      <th></th>\n",
       "    </tr>\n",
       "  </thead>\n",
       "  <tbody>\n",
       "    <tr>\n",
       "      <th>0</th>\n",
       "      <td>-0.788667</td>\n",
       "      <td>-2.562352</td>\n",
       "      <td>4</td>\n",
       "      <td>0.0</td>\n",
       "      <td>0.0</td>\n",
       "      <td>0.0</td>\n",
       "      <td>0.0</td>\n",
       "      <td>0.0</td>\n",
       "      <td>0.0</td>\n",
       "      <td>0.0</td>\n",
       "      <td>...</td>\n",
       "      <td>0.0</td>\n",
       "      <td>0.0</td>\n",
       "      <td>0.0</td>\n",
       "      <td>0.0</td>\n",
       "      <td>0.0</td>\n",
       "      <td>0.0</td>\n",
       "      <td>0.0</td>\n",
       "      <td>0.0</td>\n",
       "      <td>0.0</td>\n",
       "      <td>1.0</td>\n",
       "    </tr>\n",
       "    <tr>\n",
       "      <th>1</th>\n",
       "      <td>-0.756764</td>\n",
       "      <td>-2.562352</td>\n",
       "      <td>4</td>\n",
       "      <td>0.0</td>\n",
       "      <td>0.0</td>\n",
       "      <td>0.0</td>\n",
       "      <td>0.0</td>\n",
       "      <td>0.0</td>\n",
       "      <td>0.0</td>\n",
       "      <td>0.0</td>\n",
       "      <td>...</td>\n",
       "      <td>0.0</td>\n",
       "      <td>0.0</td>\n",
       "      <td>0.0</td>\n",
       "      <td>0.0</td>\n",
       "      <td>0.0</td>\n",
       "      <td>0.0</td>\n",
       "      <td>0.0</td>\n",
       "      <td>0.0</td>\n",
       "      <td>0.0</td>\n",
       "      <td>1.0</td>\n",
       "    </tr>\n",
       "    <tr>\n",
       "      <th>2</th>\n",
       "      <td>-0.724861</td>\n",
       "      <td>-2.562352</td>\n",
       "      <td>4</td>\n",
       "      <td>0.0</td>\n",
       "      <td>0.0</td>\n",
       "      <td>0.0</td>\n",
       "      <td>0.0</td>\n",
       "      <td>0.0</td>\n",
       "      <td>0.0</td>\n",
       "      <td>0.0</td>\n",
       "      <td>...</td>\n",
       "      <td>0.0</td>\n",
       "      <td>0.0</td>\n",
       "      <td>0.0</td>\n",
       "      <td>0.0</td>\n",
       "      <td>0.0</td>\n",
       "      <td>0.0</td>\n",
       "      <td>0.0</td>\n",
       "      <td>0.0</td>\n",
       "      <td>0.0</td>\n",
       "      <td>1.0</td>\n",
       "    </tr>\n",
       "    <tr>\n",
       "      <th>3</th>\n",
       "      <td>-0.692958</td>\n",
       "      <td>-2.562352</td>\n",
       "      <td>4</td>\n",
       "      <td>0.0</td>\n",
       "      <td>0.0</td>\n",
       "      <td>0.0</td>\n",
       "      <td>0.0</td>\n",
       "      <td>0.0</td>\n",
       "      <td>0.0</td>\n",
       "      <td>0.0</td>\n",
       "      <td>...</td>\n",
       "      <td>0.0</td>\n",
       "      <td>0.0</td>\n",
       "      <td>0.0</td>\n",
       "      <td>0.0</td>\n",
       "      <td>0.0</td>\n",
       "      <td>0.0</td>\n",
       "      <td>0.0</td>\n",
       "      <td>0.0</td>\n",
       "      <td>0.0</td>\n",
       "      <td>1.0</td>\n",
       "    </tr>\n",
       "    <tr>\n",
       "      <th>4</th>\n",
       "      <td>-0.661055</td>\n",
       "      <td>-2.562352</td>\n",
       "      <td>4</td>\n",
       "      <td>0.0</td>\n",
       "      <td>0.0</td>\n",
       "      <td>0.0</td>\n",
       "      <td>0.0</td>\n",
       "      <td>0.0</td>\n",
       "      <td>0.0</td>\n",
       "      <td>0.0</td>\n",
       "      <td>...</td>\n",
       "      <td>0.0</td>\n",
       "      <td>0.0</td>\n",
       "      <td>0.0</td>\n",
       "      <td>0.0</td>\n",
       "      <td>0.0</td>\n",
       "      <td>0.0</td>\n",
       "      <td>0.0</td>\n",
       "      <td>0.0</td>\n",
       "      <td>0.0</td>\n",
       "      <td>1.0</td>\n",
       "    </tr>\n",
       "    <tr>\n",
       "      <th>...</th>\n",
       "      <td>...</td>\n",
       "      <td>...</td>\n",
       "      <td>...</td>\n",
       "      <td>...</td>\n",
       "      <td>...</td>\n",
       "      <td>...</td>\n",
       "      <td>...</td>\n",
       "      <td>...</td>\n",
       "      <td>...</td>\n",
       "      <td>...</td>\n",
       "      <td>...</td>\n",
       "      <td>...</td>\n",
       "      <td>...</td>\n",
       "      <td>...</td>\n",
       "      <td>...</td>\n",
       "      <td>...</td>\n",
       "      <td>...</td>\n",
       "      <td>...</td>\n",
       "      <td>...</td>\n",
       "      <td>...</td>\n",
       "      <td>...</td>\n",
       "    </tr>\n",
       "    <tr>\n",
       "      <th>1681</th>\n",
       "      <td>-0.533442</td>\n",
       "      <td>0.945382</td>\n",
       "      <td>3</td>\n",
       "      <td>0.0</td>\n",
       "      <td>0.0</td>\n",
       "      <td>0.0</td>\n",
       "      <td>0.0</td>\n",
       "      <td>0.0</td>\n",
       "      <td>0.0</td>\n",
       "      <td>0.0</td>\n",
       "      <td>...</td>\n",
       "      <td>0.0</td>\n",
       "      <td>0.0</td>\n",
       "      <td>0.0</td>\n",
       "      <td>0.0</td>\n",
       "      <td>0.0</td>\n",
       "      <td>0.0</td>\n",
       "      <td>0.0</td>\n",
       "      <td>0.0</td>\n",
       "      <td>1.0</td>\n",
       "      <td>0.0</td>\n",
       "    </tr>\n",
       "    <tr>\n",
       "      <th>1682</th>\n",
       "      <td>-0.629151</td>\n",
       "      <td>0.945382</td>\n",
       "      <td>3</td>\n",
       "      <td>0.0</td>\n",
       "      <td>1.0</td>\n",
       "      <td>0.0</td>\n",
       "      <td>0.0</td>\n",
       "      <td>0.0</td>\n",
       "      <td>0.0</td>\n",
       "      <td>0.0</td>\n",
       "      <td>...</td>\n",
       "      <td>0.0</td>\n",
       "      <td>0.0</td>\n",
       "      <td>0.0</td>\n",
       "      <td>0.0</td>\n",
       "      <td>0.0</td>\n",
       "      <td>0.0</td>\n",
       "      <td>0.0</td>\n",
       "      <td>0.0</td>\n",
       "      <td>1.0</td>\n",
       "      <td>0.0</td>\n",
       "    </tr>\n",
       "    <tr>\n",
       "      <th>1683</th>\n",
       "      <td>-0.597248</td>\n",
       "      <td>0.945382</td>\n",
       "      <td>3</td>\n",
       "      <td>0.0</td>\n",
       "      <td>1.0</td>\n",
       "      <td>0.0</td>\n",
       "      <td>0.0</td>\n",
       "      <td>0.0</td>\n",
       "      <td>0.0</td>\n",
       "      <td>0.0</td>\n",
       "      <td>...</td>\n",
       "      <td>0.0</td>\n",
       "      <td>0.0</td>\n",
       "      <td>0.0</td>\n",
       "      <td>0.0</td>\n",
       "      <td>0.0</td>\n",
       "      <td>0.0</td>\n",
       "      <td>0.0</td>\n",
       "      <td>0.0</td>\n",
       "      <td>1.0</td>\n",
       "      <td>0.0</td>\n",
       "    </tr>\n",
       "    <tr>\n",
       "      <th>1684</th>\n",
       "      <td>-0.565345</td>\n",
       "      <td>0.945382</td>\n",
       "      <td>3</td>\n",
       "      <td>0.0</td>\n",
       "      <td>1.0</td>\n",
       "      <td>0.0</td>\n",
       "      <td>0.0</td>\n",
       "      <td>0.0</td>\n",
       "      <td>0.0</td>\n",
       "      <td>0.0</td>\n",
       "      <td>...</td>\n",
       "      <td>0.0</td>\n",
       "      <td>0.0</td>\n",
       "      <td>0.0</td>\n",
       "      <td>0.0</td>\n",
       "      <td>0.0</td>\n",
       "      <td>0.0</td>\n",
       "      <td>0.0</td>\n",
       "      <td>0.0</td>\n",
       "      <td>1.0</td>\n",
       "      <td>0.0</td>\n",
       "    </tr>\n",
       "    <tr>\n",
       "      <th>1685</th>\n",
       "      <td>-0.533442</td>\n",
       "      <td>0.945382</td>\n",
       "      <td>3</td>\n",
       "      <td>0.0</td>\n",
       "      <td>1.0</td>\n",
       "      <td>0.0</td>\n",
       "      <td>0.0</td>\n",
       "      <td>0.0</td>\n",
       "      <td>0.0</td>\n",
       "      <td>0.0</td>\n",
       "      <td>...</td>\n",
       "      <td>0.0</td>\n",
       "      <td>0.0</td>\n",
       "      <td>0.0</td>\n",
       "      <td>0.0</td>\n",
       "      <td>0.0</td>\n",
       "      <td>0.0</td>\n",
       "      <td>0.0</td>\n",
       "      <td>0.0</td>\n",
       "      <td>1.0</td>\n",
       "      <td>0.0</td>\n",
       "    </tr>\n",
       "  </tbody>\n",
       "</table>\n",
       "<p>1686 rows × 44 columns</p>\n",
       "</div>"
      ],
      "text/plain": [
       "       numTrials      hour  dayofweek  uid_user_0  uid_user_1  uid_user_10  \\\n",
       "index                                                                        \n",
       "0      -0.788667 -2.562352          4         0.0         0.0          0.0   \n",
       "1      -0.756764 -2.562352          4         0.0         0.0          0.0   \n",
       "2      -0.724861 -2.562352          4         0.0         0.0          0.0   \n",
       "3      -0.692958 -2.562352          4         0.0         0.0          0.0   \n",
       "4      -0.661055 -2.562352          4         0.0         0.0          0.0   \n",
       "...          ...       ...        ...         ...         ...          ...   \n",
       "1681   -0.533442  0.945382          3         0.0         0.0          0.0   \n",
       "1682   -0.629151  0.945382          3         0.0         1.0          0.0   \n",
       "1683   -0.597248  0.945382          3         0.0         1.0          0.0   \n",
       "1684   -0.565345  0.945382          3         0.0         1.0          0.0   \n",
       "1685   -0.533442  0.945382          3         0.0         1.0          0.0   \n",
       "\n",
       "       uid_user_11  uid_user_12  uid_user_13  uid_user_14  ...  labname_lab02  \\\n",
       "index                                                      ...                  \n",
       "0              0.0          0.0          0.0          0.0  ...            0.0   \n",
       "1              0.0          0.0          0.0          0.0  ...            0.0   \n",
       "2              0.0          0.0          0.0          0.0  ...            0.0   \n",
       "3              0.0          0.0          0.0          0.0  ...            0.0   \n",
       "4              0.0          0.0          0.0          0.0  ...            0.0   \n",
       "...            ...          ...          ...          ...  ...            ...   \n",
       "1681           0.0          0.0          0.0          0.0  ...            0.0   \n",
       "1682           0.0          0.0          0.0          0.0  ...            0.0   \n",
       "1683           0.0          0.0          0.0          0.0  ...            0.0   \n",
       "1684           0.0          0.0          0.0          0.0  ...            0.0   \n",
       "1685           0.0          0.0          0.0          0.0  ...            0.0   \n",
       "\n",
       "       labname_lab03  labname_lab03s  labname_lab05s  labname_laba04  \\\n",
       "index                                                                  \n",
       "0                0.0             0.0             0.0             0.0   \n",
       "1                0.0             0.0             0.0             0.0   \n",
       "2                0.0             0.0             0.0             0.0   \n",
       "3                0.0             0.0             0.0             0.0   \n",
       "4                0.0             0.0             0.0             0.0   \n",
       "...              ...             ...             ...             ...   \n",
       "1681             0.0             0.0             0.0             0.0   \n",
       "1682             0.0             0.0             0.0             0.0   \n",
       "1683             0.0             0.0             0.0             0.0   \n",
       "1684             0.0             0.0             0.0             0.0   \n",
       "1685             0.0             0.0             0.0             0.0   \n",
       "\n",
       "       labname_laba04s  labname_laba05  labname_laba06  labname_laba06s  \\\n",
       "index                                                                     \n",
       "0                  0.0             0.0             0.0              0.0   \n",
       "1                  0.0             0.0             0.0              0.0   \n",
       "2                  0.0             0.0             0.0              0.0   \n",
       "3                  0.0             0.0             0.0              0.0   \n",
       "4                  0.0             0.0             0.0              0.0   \n",
       "...                ...             ...             ...              ...   \n",
       "1681               0.0             0.0             0.0              1.0   \n",
       "1682               0.0             0.0             0.0              1.0   \n",
       "1683               0.0             0.0             0.0              1.0   \n",
       "1684               0.0             0.0             0.0              1.0   \n",
       "1685               0.0             0.0             0.0              1.0   \n",
       "\n",
       "       labname_project1  \n",
       "index                    \n",
       "0                   1.0  \n",
       "1                   1.0  \n",
       "2                   1.0  \n",
       "3                   1.0  \n",
       "4                   1.0  \n",
       "...                 ...  \n",
       "1681                0.0  \n",
       "1682                0.0  \n",
       "1683                0.0  \n",
       "1684                0.0  \n",
       "1685                0.0  \n",
       "\n",
       "[1686 rows x 44 columns]"
      ]
     },
     "execution_count": 2,
     "metadata": {},
     "output_type": "execute_result"
    }
   ],
   "source": [
    "df = pd.read_csv('../data/dayofweek.csv', index_col='index')\n",
    "df"
   ]
  },
  {
   "cell_type": "code",
   "execution_count": 3,
   "metadata": {},
   "outputs": [],
   "source": [
    "X = df.drop(columns='dayofweek')\n",
    "y = df['dayofweek']"
   ]
  },
  {
   "cell_type": "code",
   "execution_count": 4,
   "metadata": {},
   "outputs": [],
   "source": [
    "X_train, X_test, y_train, y_test = train_test_split(X, y, test_size=0.2, random_state=21, stratify=y)"
   ]
  },
  {
   "cell_type": "code",
   "execution_count": 5,
   "metadata": {},
   "outputs": [
    {
     "data": {
      "text/plain": [
       "3   -0.002265\n",
       "6    0.001365\n",
       "1   -0.000259\n",
       "5    0.001216\n",
       "2   -0.000478\n",
       "0    0.000979\n",
       "4   -0.000557\n",
       "Name: dayofweek, dtype: float64"
      ]
     },
     "execution_count": 5,
     "metadata": {},
     "output_type": "execute_result"
    }
   ],
   "source": [
    "y_train.value_counts() / y_train.shape[0] - y_test.value_counts() / y_test.shape[0]"
   ]
  },
  {
   "cell_type": "markdown",
   "metadata": {},
   "source": [
    "## 2. Logreg regularization"
   ]
  },
  {
   "cell_type": "markdown",
   "metadata": {},
   "source": [
    "### a. Default regularization"
   ]
  },
  {
   "cell_type": "markdown",
   "metadata": {},
   "source": [
    "1. Train a baseline model with the only parameters `random_state=21`, `fit_intercept=False`.\n",
    "2. Use stratified K-fold cross-validation with `10` splits to evaluate the accuracy of the model\n",
    "\n",
    "\n",
    "The result of the code where you trained and evaluated the baseline model should be exactly like this (use `%%time` to get the info about how long it took to run the cell):\n",
    "\n",
    "```\n",
    "train -  0.62902   |   valid -  0.59259\n",
    "train -  0.64633   |   valid -  0.62963\n",
    "train -  0.63479   |   valid -  0.56296\n",
    "train -  0.65622   |   valid -  0.61481\n",
    "train -  0.63397   |   valid -  0.57778\n",
    "train -  0.64056   |   valid -  0.59259\n",
    "train -  0.64138   |   valid -  0.65926\n",
    "train -  0.65952   |   valid -  0.56296\n",
    "train -  0.64333   |   valid -  0.59701\n",
    "train -  0.63674   |   valid -  0.62687\n",
    "Average accuracy on crossval is 0.60165\n",
    "Std is 0.02943\n",
    "```"
   ]
  },
  {
   "cell_type": "code",
   "execution_count": 6,
   "metadata": {},
   "outputs": [],
   "source": [
    "def cross_validation_test(model, split_n=10):\n",
    "    kf = StratifiedKFold(split_n)\n",
    "    X = X_train.values\n",
    "    y = y_train.values\n",
    "\n",
    "    for train, test in kf.split(X, y):\n",
    "        model.fit(X[train], y[train])\n",
    "\n",
    "        train_accuracy = metrics.accuracy_score(model.predict(X[train]), y[train])\n",
    "        test_accuracy = metrics.accuracy_score(model.predict(X[test]), y[test])\n",
    "\n",
    "        print(f'train -  {train_accuracy:1.5f}  |  valid -  {test_accuracy:1.5f}')\n",
    "\n",
    "    accuracy_values = cross_val_score(model, X, y, cv=kf, n_jobs=-1)\n",
    "    print(f'Average accuracy on crossval is {accuracy_values.mean():1.5f}')\n",
    "    print(f'Std is {accuracy_values.std():1.5f}\\n')"
   ]
  },
  {
   "cell_type": "code",
   "execution_count": 7,
   "metadata": {},
   "outputs": [
    {
     "name": "stdout",
     "output_type": "stream",
     "text": [
      "train -  0.62902  |  valid -  0.59259\n",
      "train -  0.64633  |  valid -  0.62963\n",
      "train -  0.63479  |  valid -  0.56296\n",
      "train -  0.65622  |  valid -  0.61481\n",
      "train -  0.63397  |  valid -  0.57778\n",
      "train -  0.64056  |  valid -  0.59259\n",
      "train -  0.64138  |  valid -  0.65926\n",
      "train -  0.65952  |  valid -  0.56296\n",
      "train -  0.64333  |  valid -  0.59701\n",
      "train -  0.63674  |  valid -  0.62687\n",
      "Average accuracy on crossval is 0.60165\n",
      "Std is 0.02943\n",
      "\n",
      "1.74 s ± 0 ns per loop (mean ± std. dev. of 1 run, 1 loop each)\n"
     ]
    }
   ],
   "source": [
    "%%timeit -n 1 -r 1\n",
    "\n",
    "logreg = linear_model.LogisticRegression(random_state=21, fit_intercept=False)\n",
    "cross_validation_test(logreg, 10)"
   ]
  },
  {
   "cell_type": "markdown",
   "metadata": {},
   "source": [
    "### b. Optimizing regularization parameters"
   ]
  },
  {
   "cell_type": "markdown",
   "metadata": {},
   "source": [
    "1. In the cells below try different values of penalty: `none`, `l1`, `l2` – you can change the values of solver too."
   ]
  },
  {
   "cell_type": "code",
   "execution_count": 8,
   "metadata": {},
   "outputs": [
    {
     "name": "stdout",
     "output_type": "stream",
     "text": [
      "train -  0.66694  |  valid -  0.63704\n",
      "train -  0.65787  |  valid -  0.65926\n",
      "train -  0.66694  |  valid -  0.57778\n",
      "train -  0.66529  |  valid -  0.62963\n",
      "train -  0.66694  |  valid -  0.62222\n",
      "train -  0.65952  |  valid -  0.57778\n",
      "train -  0.64963  |  valid -  0.69630\n",
      "train -  0.68425  |  valid -  0.61481\n",
      "train -  0.66474  |  valid -  0.62687\n",
      "train -  0.65651  |  valid -  0.60448\n",
      "Average accuracy on crossval is 0.62462\n",
      "Std is 0.03379\n",
      "\n",
      "2.92 s ± 0 ns per loop (mean ± std. dev. of 1 run, 1 loop each)\n"
     ]
    }
   ],
   "source": [
    "%%timeit -n 1 -r 1\n",
    "\n",
    "logreg = linear_model.LogisticRegression(random_state=21, fit_intercept=False, max_iter=1000, penalty='none')\n",
    "cross_validation_test(logreg, 10)"
   ]
  },
  {
   "cell_type": "code",
   "execution_count": 9,
   "metadata": {},
   "outputs": [
    {
     "name": "stdout",
     "output_type": "stream",
     "text": [
      "train -  0.61830  |  valid -  0.54815\n",
      "train -  0.62737  |  valid -  0.62222\n",
      "train -  0.60511  |  valid -  0.54074\n",
      "train -  0.63644  |  valid -  0.62222\n",
      "train -  0.62407  |  valid -  0.55556\n",
      "train -  0.62325  |  valid -  0.58519\n",
      "train -  0.61253  |  valid -  0.63704\n",
      "train -  0.64716  |  valid -  0.58519\n",
      "train -  0.63015  |  valid -  0.59701\n",
      "train -  0.61367  |  valid -  0.59701\n",
      "Average accuracy on crossval is 0.58903\n",
      "Std is 0.03129\n",
      "\n",
      "191 ms ± 0 ns per loop (mean ± std. dev. of 1 run, 1 loop each)\n"
     ]
    }
   ],
   "source": [
    "%%timeit -n 1 -r 1\n",
    "\n",
    "logreg = linear_model.LogisticRegression(random_state=21, fit_intercept=False, max_iter=1000, penalty='l1', solver='liblinear')\n",
    "cross_validation_test(logreg, 10)"
   ]
  },
  {
   "cell_type": "code",
   "execution_count": 10,
   "metadata": {},
   "outputs": [
    {
     "name": "stdout",
     "output_type": "stream",
     "text": [
      "train -  0.61006  |  valid -  0.56296\n",
      "train -  0.61665  |  valid -  0.61481\n",
      "train -  0.61336  |  valid -  0.59259\n",
      "train -  0.62902  |  valid -  0.60741\n",
      "train -  0.60923  |  valid -  0.55556\n",
      "train -  0.61500  |  valid -  0.57778\n",
      "train -  0.61665  |  valid -  0.61481\n",
      "train -  0.64056  |  valid -  0.53333\n",
      "train -  0.62109  |  valid -  0.58209\n",
      "train -  0.61120  |  valid -  0.57463\n",
      "Average accuracy on crossval is 0.58160\n",
      "Std is 0.02532\n",
      "\n",
      "121 ms ± 0 ns per loop (mean ± std. dev. of 1 run, 1 loop each)\n"
     ]
    }
   ],
   "source": [
    "%%timeit -n 1 -r 1\n",
    "\n",
    "logreg = linear_model.LogisticRegression(random_state=21, fit_intercept=False, max_iter=1000, penalty='l2', solver='liblinear')\n",
    "cross_validation_test(logreg, 10)"
   ]
  },
  {
   "cell_type": "markdown",
   "metadata": {},
   "source": [
    "## 3. SVM regularization"
   ]
  },
  {
   "cell_type": "markdown",
   "metadata": {},
   "source": [
    "### a. Default regularization"
   ]
  },
  {
   "cell_type": "markdown",
   "metadata": {},
   "source": [
    "1. Train a baseline model with the only parameters `probability=True`, `kernel='linear'`, `random_state=21`.\n",
    "2. Use stratified K-fold cross-validation with `10` splits to evaluate the accuracy of the model.\n",
    "3. The format of the result of the code where you trained and evaluated the baseline model should be similar to what you have got for the logreg."
   ]
  },
  {
   "cell_type": "code",
   "execution_count": 11,
   "metadata": {},
   "outputs": [
    {
     "name": "stdout",
     "output_type": "stream",
     "text": [
      "train -  0.70486  |  valid -  0.65926\n",
      "train -  0.69662  |  valid -  0.75556\n",
      "train -  0.69415  |  valid -  0.62222\n",
      "train -  0.70239  |  valid -  0.65185\n",
      "train -  0.69085  |  valid -  0.65185\n",
      "train -  0.68920  |  valid -  0.64444\n",
      "train -  0.69250  |  valid -  0.72593\n",
      "train -  0.70074  |  valid -  0.62222\n",
      "train -  0.69605  |  valid -  0.61940\n",
      "train -  0.71087  |  valid -  0.63433\n",
      "Average accuracy on crossval is 0.65871\n",
      "Std is 0.04359\n",
      "\n",
      "4.61 s ± 0 ns per loop (mean ± std. dev. of 1 run, 1 loop each)\n"
     ]
    }
   ],
   "source": [
    "%%timeit -n 1 -r 1\n",
    "\n",
    "svc = svm.SVC(probability=True, kernel='linear', random_state=21)\n",
    "cross_validation_test(svc, 10)"
   ]
  },
  {
   "cell_type": "markdown",
   "metadata": {},
   "source": [
    "### b. Optimizing regularization parameters"
   ]
  },
  {
   "cell_type": "markdown",
   "metadata": {},
   "source": [
    "1. In the cells below try different values of the parameter `C`."
   ]
  },
  {
   "cell_type": "code",
   "execution_count": 12,
   "metadata": {},
   "outputs": [
    {
     "name": "stdout",
     "output_type": "stream",
     "text": [
      "train -  0.58120  |  valid -  0.55556\n",
      "train -  0.57543  |  valid -  0.56296\n",
      "train -  0.57378  |  valid -  0.57037\n",
      "train -  0.59275  |  valid -  0.57037\n",
      "train -  0.58120  |  valid -  0.54815\n",
      "train -  0.57955  |  valid -  0.54815\n",
      "train -  0.57296  |  valid -  0.61481\n",
      "train -  0.59192  |  valid -  0.54815\n",
      "train -  0.59967  |  valid -  0.52985\n",
      "train -  0.57825  |  valid -  0.57463\n",
      "Average accuracy on crossval is 0.56230\n",
      "Std is 0.02177\n",
      "\n",
      "5.21 s ± 0 ns per loop (mean ± std. dev. of 1 run, 1 loop each)\n"
     ]
    }
   ],
   "source": [
    "%%timeit -n 1 -r 1\n",
    "\n",
    "svc = svm.SVC(probability=True, kernel='linear', random_state=21, C=0.1)\n",
    "cross_validation_test(svc, 10)"
   ]
  },
  {
   "cell_type": "code",
   "execution_count": 13,
   "metadata": {},
   "outputs": [
    {
     "name": "stdout",
     "output_type": "stream",
     "text": [
      "train -  0.66694  |  valid -  0.63704\n",
      "train -  0.66612  |  valid -  0.73333\n",
      "train -  0.67271  |  valid -  0.60741\n",
      "train -  0.67354  |  valid -  0.62963\n",
      "train -  0.67766  |  valid -  0.64444\n",
      "train -  0.66529  |  valid -  0.61481\n",
      "train -  0.66200  |  valid -  0.68889\n",
      "train -  0.66529  |  valid -  0.57037\n",
      "train -  0.67463  |  valid -  0.59701\n",
      "train -  0.66804  |  valid -  0.61194\n",
      "Average accuracy on crossval is 0.63349\n",
      "Std is 0.04471\n",
      "\n",
      "4.71 s ± 0 ns per loop (mean ± std. dev. of 1 run, 1 loop each)\n"
     ]
    }
   ],
   "source": [
    "%%timeit -n 1 -r 1\n",
    "\n",
    "svc = svm.SVC(probability=True, kernel='linear', random_state=21, C=0.5)\n",
    "cross_validation_test(svc, 10)"
   ]
  },
  {
   "cell_type": "code",
   "execution_count": 14,
   "metadata": {},
   "outputs": [
    {
     "name": "stdout",
     "output_type": "stream",
     "text": [
      "train -  0.70734  |  valid -  0.65926\n",
      "train -  0.70486  |  valid -  0.74815\n",
      "train -  0.74361  |  valid -  0.64444\n",
      "train -  0.70816  |  valid -  0.67407\n",
      "train -  0.70239  |  valid -  0.67407\n",
      "train -  0.69909  |  valid -  0.64444\n",
      "train -  0.70239  |  valid -  0.72593\n",
      "train -  0.70239  |  valid -  0.62963\n",
      "train -  0.70840  |  valid -  0.64925\n",
      "train -  0.71911  |  valid -  0.64179\n",
      "Average accuracy on crossval is 0.66910\n",
      "Std is 0.03679\n",
      "\n",
      "4.82 s ± 0 ns per loop (mean ± std. dev. of 1 run, 1 loop each)\n"
     ]
    }
   ],
   "source": [
    "%%timeit -n 1 -r 1\n",
    "\n",
    "svc = svm.SVC(probability=True, kernel='linear', random_state=21, C=1.5)\n",
    "cross_validation_test(svc, 10)"
   ]
  },
  {
   "cell_type": "code",
   "execution_count": 15,
   "metadata": {},
   "outputs": [
    {
     "name": "stdout",
     "output_type": "stream",
     "text": [
      "train -  0.70734  |  valid -  0.65926\n",
      "train -  0.71393  |  valid -  0.75556\n",
      "train -  0.74526  |  valid -  0.63704\n",
      "train -  0.71558  |  valid -  0.66667\n",
      "train -  0.71146  |  valid -  0.67407\n",
      "train -  0.70157  |  valid -  0.63704\n",
      "train -  0.70651  |  valid -  0.71852\n",
      "train -  0.70981  |  valid -  0.64444\n",
      "train -  0.72405  |  valid -  0.64925\n",
      "train -  0.72488  |  valid -  0.64179\n",
      "Average accuracy on crossval is 0.66836\n",
      "Std is 0.03721\n",
      "\n",
      "4.77 s ± 0 ns per loop (mean ± std. dev. of 1 run, 1 loop each)\n"
     ]
    }
   ],
   "source": [
    "%%timeit -n 1 -r 1\n",
    "\n",
    "svc = svm.SVC(probability=True, kernel='linear', random_state=21, C=2)\n",
    "cross_validation_test(svc, 10)"
   ]
  },
  {
   "cell_type": "markdown",
   "metadata": {},
   "source": [
    "## 4. Tree"
   ]
  },
  {
   "cell_type": "markdown",
   "metadata": {},
   "source": [
    "### a. Default regularization"
   ]
  },
  {
   "cell_type": "markdown",
   "metadata": {},
   "source": [
    "1. Train a baseline model with the only parameter `max_depth=10` and `random_state=21`.\n",
    "2. Use stratified K-fold cross-validation with `10` splits to evaluate the accuracy of the model.\n",
    "3. The format of the result of the code where you trained and evaluated the baseline model should be similar to what you have got for the logreg."
   ]
  },
  {
   "cell_type": "code",
   "execution_count": 16,
   "metadata": {},
   "outputs": [
    {
     "name": "stdout",
     "output_type": "stream",
     "text": [
      "train -  0.81039  |  valid -  0.74074\n",
      "train -  0.77741  |  valid -  0.74074\n",
      "train -  0.83347  |  valid -  0.70370\n",
      "train -  0.79720  |  valid -  0.76296\n",
      "train -  0.82440  |  valid -  0.75556\n",
      "train -  0.80379  |  valid -  0.68889\n",
      "train -  0.80709  |  valid -  0.76296\n",
      "train -  0.80132  |  valid -  0.65926\n",
      "train -  0.80807  |  valid -  0.75373\n",
      "train -  0.80478  |  valid -  0.68657\n",
      "Average accuracy on crossval is 0.72551\n",
      "Std is 0.03562\n",
      "\n",
      "132 ms ± 0 ns per loop (mean ± std. dev. of 1 run, 1 loop each)\n"
     ]
    }
   ],
   "source": [
    "%%timeit -n 1 -r 1\n",
    "\n",
    "tree_classifier = tree.DecisionTreeClassifier(max_depth=10, random_state=21)\n",
    "cross_validation_test(tree_classifier, 10)"
   ]
  },
  {
   "cell_type": "markdown",
   "metadata": {},
   "source": [
    "### b. Optimizing regularization parameters"
   ]
  },
  {
   "cell_type": "markdown",
   "metadata": {},
   "source": [
    "1. In the cells below try different values of the parameter `max_depth`.\n",
    "2. As a bonus, play with other regularization parameters trying to find the best combination."
   ]
  },
  {
   "cell_type": "code",
   "execution_count": 17,
   "metadata": {},
   "outputs": [
    {
     "name": "stdout",
     "output_type": "stream",
     "text": [
      "train -  0.35367  |  valid -  0.37037\n",
      "train -  0.35449  |  valid -  0.36296\n",
      "train -  0.35614  |  valid -  0.34815\n",
      "train -  0.35449  |  valid -  0.36296\n",
      "train -  0.35532  |  valid -  0.35556\n",
      "train -  0.35367  |  valid -  0.37037\n",
      "train -  0.35532  |  valid -  0.35556\n",
      "train -  0.35614  |  valid -  0.34815\n",
      "train -  0.35667  |  valid -  0.34328\n",
      "train -  0.35750  |  valid -  0.33582\n",
      "Average accuracy on crossval is 0.35532\n",
      "Std is 0.01094\n",
      "\n",
      "56.5 ms ± 0 ns per loop (mean ± std. dev. of 1 run, 1 loop each)\n"
     ]
    }
   ],
   "source": [
    "%%timeit -n 1 -r 1\n",
    "\n",
    "tree_classifier = tree.DecisionTreeClassifier(max_depth=1, random_state=21)\n",
    "cross_validation_test(tree_classifier, 10)"
   ]
  },
  {
   "cell_type": "code",
   "execution_count": 18,
   "metadata": {},
   "outputs": [
    {
     "name": "stdout",
     "output_type": "stream",
     "text": [
      "train -  0.59522  |  valid -  0.53333\n",
      "train -  0.56307  |  valid -  0.53333\n",
      "train -  0.60181  |  valid -  0.55556\n",
      "train -  0.59604  |  valid -  0.57037\n",
      "train -  0.60264  |  valid -  0.57778\n",
      "train -  0.57955  |  valid -  0.53333\n",
      "train -  0.58368  |  valid -  0.54815\n",
      "train -  0.59275  |  valid -  0.51111\n",
      "train -  0.58237  |  valid -  0.56716\n",
      "train -  0.60132  |  valid -  0.50000\n",
      "Average accuracy on crossval is 0.54301\n",
      "Std is 0.02423\n",
      "\n",
      "67.4 ms ± 0 ns per loop (mean ± std. dev. of 1 run, 1 loop each)\n"
     ]
    }
   ],
   "source": [
    "%%timeit -n 1 -r 1\n",
    "\n",
    "tree_classifier = tree.DecisionTreeClassifier(max_depth=5, random_state=21)\n",
    "cross_validation_test(tree_classifier, 10)"
   ]
  },
  {
   "cell_type": "code",
   "execution_count": 19,
   "metadata": {},
   "outputs": [
    {
     "name": "stdout",
     "output_type": "stream",
     "text": [
      "train -  0.95796  |  valid -  0.82222\n",
      "train -  0.93075  |  valid -  0.83704\n",
      "train -  0.95631  |  valid -  0.83704\n",
      "train -  0.95301  |  valid -  0.86667\n",
      "train -  0.95136  |  valid -  0.88889\n",
      "train -  0.94724  |  valid -  0.82222\n",
      "train -  0.95466  |  valid -  0.90370\n",
      "train -  0.94971  |  valid -  0.87407\n",
      "train -  0.95305  |  valid -  0.83582\n",
      "train -  0.94316  |  valid -  0.85821\n",
      "Average accuracy on crossval is 0.85459\n",
      "Std is 0.02682\n",
      "\n",
      "87.1 ms ± 0 ns per loop (mean ± std. dev. of 1 run, 1 loop each)\n"
     ]
    }
   ],
   "source": [
    "%%timeit -n 1 -r 1\n",
    "\n",
    "tree_classifier = tree.DecisionTreeClassifier(max_depth=15, random_state=21)\n",
    "cross_validation_test(tree_classifier, 10)"
   ]
  },
  {
   "cell_type": "code",
   "execution_count": 20,
   "metadata": {},
   "outputs": [
    {
     "name": "stdout",
     "output_type": "stream",
     "text": [
      "train -  1.00000  |  valid -  0.85926\n",
      "train -  1.00000  |  valid -  0.91852\n",
      "train -  0.99918  |  valid -  0.86667\n",
      "train -  1.00000  |  valid -  0.91111\n",
      "train -  0.99918  |  valid -  0.88889\n",
      "train -  0.99835  |  valid -  0.85185\n",
      "train -  0.99753  |  valid -  0.92593\n",
      "train -  1.00000  |  valid -  0.88148\n",
      "train -  1.00000  |  valid -  0.88060\n",
      "train -  1.00000  |  valid -  0.88060\n",
      "Average accuracy on crossval is 0.88649\n",
      "Std is 0.02371\n",
      "\n",
      "86 ms ± 0 ns per loop (mean ± std. dev. of 1 run, 1 loop each)\n"
     ]
    }
   ],
   "source": [
    "%%timeit -n 1 -r 1\n",
    "\n",
    "tree_classifier = tree.DecisionTreeClassifier(max_depth=25, random_state=21)\n",
    "cross_validation_test(tree_classifier, 10)"
   ]
  },
  {
   "cell_type": "code",
   "execution_count": 21,
   "metadata": {},
   "outputs": [
    {
     "name": "stdout",
     "output_type": "stream",
     "text": [
      "train -  1.00000  |  valid -  0.85926\n",
      "train -  1.00000  |  valid -  0.91852\n",
      "train -  1.00000  |  valid -  0.86667\n",
      "train -  1.00000  |  valid -  0.91111\n",
      "train -  1.00000  |  valid -  0.88148\n",
      "train -  1.00000  |  valid -  0.85185\n",
      "train -  1.00000  |  valid -  0.92593\n",
      "train -  1.00000  |  valid -  0.88148\n",
      "train -  1.00000  |  valid -  0.88060\n",
      "train -  1.00000  |  valid -  0.88060\n",
      "Average accuracy on crossval is 0.88575\n",
      "Std is 0.02374\n",
      "\n",
      "90.7 ms ± 0 ns per loop (mean ± std. dev. of 1 run, 1 loop each)\n"
     ]
    }
   ],
   "source": [
    "%%timeit -n 1 -r 1\n",
    "\n",
    "tree_classifier = tree.DecisionTreeClassifier(max_depth=50, random_state=21)\n",
    "cross_validation_test(tree_classifier, 10)"
   ]
  },
  {
   "cell_type": "markdown",
   "metadata": {},
   "source": [
    "## 5. Random forest"
   ]
  },
  {
   "cell_type": "markdown",
   "metadata": {},
   "source": [
    "### a. Default regularization"
   ]
  },
  {
   "cell_type": "markdown",
   "metadata": {},
   "source": [
    "1. Train a baseline model with the only parameters `n_estimators=50`, `max_depth=14`, `random_state=21`.\n",
    "2. Use stratified K-fold cross-validation with `10` splits to evaluate the accuracy of the model.\n",
    "3. The format of the result of the code where you trained and evaluated the baseline model should be similar to what you have got for the logreg."
   ]
  },
  {
   "cell_type": "code",
   "execution_count": 22,
   "metadata": {},
   "outputs": [
    {
     "name": "stdout",
     "output_type": "stream",
     "text": [
      "train -  0.96455  |  valid -  0.88148\n",
      "train -  0.96208  |  valid -  0.91852\n",
      "train -  0.96785  |  valid -  0.86667\n",
      "train -  0.96455  |  valid -  0.89630\n",
      "train -  0.96538  |  valid -  0.91111\n",
      "train -  0.96538  |  valid -  0.88148\n",
      "train -  0.97115  |  valid -  0.91852\n",
      "train -  0.96867  |  valid -  0.85185\n",
      "train -  0.97364  |  valid -  0.88060\n",
      "train -  0.97941  |  valid -  0.86567\n",
      "Average accuracy on crossval is 0.88722\n",
      "Std is 0.02204\n",
      "\n",
      "1.54 s ± 0 ns per loop (mean ± std. dev. of 1 run, 1 loop each)\n"
     ]
    }
   ],
   "source": [
    "%%timeit -n 1 -r 1\n",
    "\n",
    "random_forest = ensemble.RandomForestClassifier(n_estimators=50, max_depth=14, random_state=21)\n",
    "cross_validation_test(random_forest, 10)"
   ]
  },
  {
   "cell_type": "markdown",
   "metadata": {},
   "source": [
    "### b. Optimizing regularization parameters"
   ]
  },
  {
   "cell_type": "markdown",
   "metadata": {},
   "source": [
    "1. In the new cells try different values of the parameters `max_depth` and `n_estimators`.\n",
    "2. As a bonus, play with other regularization parameters trying to find the best combination."
   ]
  },
  {
   "cell_type": "code",
   "execution_count": 23,
   "metadata": {},
   "outputs": [
    {
     "name": "stdout",
     "output_type": "stream",
     "text": [
      "train -  0.95548  |  valid -  0.85926\n",
      "train -  0.93157  |  valid -  0.88148\n",
      "train -  0.95960  |  valid -  0.85926\n",
      "train -  0.92910  |  valid -  0.87407\n",
      "train -  0.95136  |  valid -  0.89630\n",
      "train -  0.94889  |  valid -  0.84444\n",
      "train -  0.93405  |  valid -  0.85185\n",
      "train -  0.93899  |  valid -  0.83704\n",
      "train -  0.95552  |  valid -  0.87313\n",
      "train -  0.95387  |  valid -  0.85075\n",
      "Average accuracy on crossval is 0.86276\n",
      "Std is 0.01731\n",
      "\n",
      "369 ms ± 0 ns per loop (mean ± std. dev. of 1 run, 1 loop each)\n"
     ]
    }
   ],
   "source": [
    "%%timeit -n 1 -r 1\n",
    "\n",
    "random_forest = ensemble.RandomForestClassifier(n_estimators=10, max_depth=14, random_state=21)\n",
    "cross_validation_test(random_forest, 10)"
   ]
  },
  {
   "cell_type": "code",
   "execution_count": 24,
   "metadata": {},
   "outputs": [
    {
     "name": "stdout",
     "output_type": "stream",
     "text": [
      "train -  0.96702  |  valid -  0.87407\n",
      "train -  0.96620  |  valid -  0.91852\n",
      "train -  0.97115  |  valid -  0.88148\n",
      "train -  0.96950  |  valid -  0.88889\n",
      "train -  0.96785  |  valid -  0.89630\n",
      "train -  0.97032  |  valid -  0.86667\n",
      "train -  0.97197  |  valid -  0.91111\n",
      "train -  0.97032  |  valid -  0.88889\n",
      "train -  0.97446  |  valid -  0.88060\n",
      "train -  0.97694  |  valid -  0.85075\n",
      "Average accuracy on crossval is 0.88573\n",
      "Std is 0.01902\n",
      "\n",
      "3.79 s ± 0 ns per loop (mean ± std. dev. of 1 run, 1 loop each)\n"
     ]
    }
   ],
   "source": [
    "%%timeit -n 1 -r 1\n",
    "\n",
    "random_forest = ensemble.RandomForestClassifier(n_estimators=150, max_depth=14, random_state=21)\n",
    "cross_validation_test(random_forest, 10)"
   ]
  },
  {
   "cell_type": "code",
   "execution_count": 25,
   "metadata": {},
   "outputs": [
    {
     "name": "stdout",
     "output_type": "stream",
     "text": [
      "train -  0.62984  |  valid -  0.58519\n",
      "train -  0.57791  |  valid -  0.55556\n",
      "train -  0.60181  |  valid -  0.57778\n",
      "train -  0.59522  |  valid -  0.59259\n",
      "train -  0.61748  |  valid -  0.57778\n",
      "train -  0.59687  |  valid -  0.57778\n",
      "train -  0.61500  |  valid -  0.60741\n",
      "train -  0.59522  |  valid -  0.57037\n",
      "train -  0.59967  |  valid -  0.57463\n",
      "train -  0.60297  |  valid -  0.54478\n",
      "Average accuracy on crossval is 0.57638\n",
      "Std is 0.01668\n",
      "\n",
      "1.1 s ± 0 ns per loop (mean ± std. dev. of 1 run, 1 loop each)\n"
     ]
    }
   ],
   "source": [
    "%%timeit -n 1 -r 1\n",
    "\n",
    "random_forest = ensemble.RandomForestClassifier(n_estimators=50, max_depth=5, random_state=21)\n",
    "cross_validation_test(random_forest, 10)"
   ]
  },
  {
   "cell_type": "code",
   "execution_count": 26,
   "metadata": {},
   "outputs": [
    {
     "name": "stdout",
     "output_type": "stream",
     "text": [
      "train -  1.00000  |  valid -  0.89630\n",
      "train -  1.00000  |  valid -  0.94074\n",
      "train -  1.00000  |  valid -  0.90370\n",
      "train -  1.00000  |  valid -  0.93333\n",
      "train -  1.00000  |  valid -  0.90370\n",
      "train -  1.00000  |  valid -  0.89630\n",
      "train -  1.00000  |  valid -  0.91852\n",
      "train -  1.00000  |  valid -  0.89630\n",
      "train -  1.00000  |  valid -  0.94030\n",
      "train -  0.99918  |  valid -  0.89552\n",
      "Average accuracy on crossval is 0.91247\n",
      "Std is 0.01809\n",
      "\n",
      "1.44 s ± 0 ns per loop (mean ± std. dev. of 1 run, 1 loop each)\n"
     ]
    }
   ],
   "source": [
    "%%timeit -n 1 -r 1\n",
    "\n",
    "random_forest = ensemble.RandomForestClassifier(n_estimators=50, max_depth=35, random_state=21)\n",
    "cross_validation_test(random_forest, 10)"
   ]
  },
  {
   "cell_type": "code",
   "execution_count": 27,
   "metadata": {},
   "outputs": [
    {
     "name": "stdout",
     "output_type": "stream",
     "text": [
      "train -  1.00000  |  valid -  0.90370\n",
      "train -  1.00000  |  valid -  0.94815\n",
      "train -  1.00000  |  valid -  0.90370\n",
      "train -  1.00000  |  valid -  0.94074\n",
      "train -  1.00000  |  valid -  0.91111\n",
      "train -  1.00000  |  valid -  0.89630\n",
      "train -  1.00000  |  valid -  0.92593\n",
      "train -  1.00000  |  valid -  0.90370\n",
      "train -  1.00000  |  valid -  0.92537\n",
      "train -  1.00000  |  valid -  0.89552\n",
      "Average accuracy on crossval is 0.91542\n",
      "Std is 0.01765\n",
      "\n",
      "4.21 s ± 0 ns per loop (mean ± std. dev. of 1 run, 1 loop each)\n"
     ]
    }
   ],
   "source": [
    "%%timeit -n 1 -r 1\n",
    "\n",
    "random_forest = ensemble.RandomForestClassifier(n_estimators=150, max_depth=35, random_state=21)\n",
    "cross_validation_test(random_forest, 10)"
   ]
  },
  {
   "cell_type": "code",
   "execution_count": 28,
   "metadata": {},
   "outputs": [
    {
     "name": "stdout",
     "output_type": "stream",
     "text": [
      "train -  0.99918  |  valid -  0.90370\n",
      "train -  0.99918  |  valid -  0.96296\n",
      "train -  0.99918  |  valid -  0.89630\n",
      "train -  1.00000  |  valid -  0.94074\n",
      "train -  0.99918  |  valid -  0.91852\n",
      "train -  0.99835  |  valid -  0.89630\n",
      "train -  0.99918  |  valid -  0.92593\n",
      "train -  0.99918  |  valid -  0.89630\n",
      "train -  1.00000  |  valid -  0.93284\n",
      "train -  1.00000  |  valid -  0.90299\n",
      "Average accuracy on crossval is 0.91766\n",
      "Std is 0.02160\n",
      "\n",
      "2.71 s ± 0 ns per loop (mean ± std. dev. of 1 run, 1 loop each)\n"
     ]
    }
   ],
   "source": [
    "%%timeit -n 1 -r 1\n",
    "\n",
    "random_forest = ensemble.RandomForestClassifier(n_estimators=100, max_depth=25, random_state=21)\n",
    "cross_validation_test(random_forest, 10)"
   ]
  },
  {
   "cell_type": "markdown",
   "metadata": {},
   "source": [
    "## 6. Predictions"
   ]
  },
  {
   "cell_type": "markdown",
   "metadata": {},
   "source": [
    "### 1. Choose the best model and use it to make predictions for the test dataset."
   ]
  },
  {
   "cell_type": "code",
   "execution_count": 29,
   "metadata": {},
   "outputs": [
    {
     "data": {
      "text/plain": [
       "RandomForestClassifier(max_depth=25, random_state=21)"
      ]
     },
     "execution_count": 29,
     "metadata": {},
     "output_type": "execute_result"
    }
   ],
   "source": [
    "random_forest = ensemble.RandomForestClassifier(n_estimators=100, max_depth=25, random_state=21)\n",
    "random_forest.fit(X_train, y_train)"
   ]
  },
  {
   "cell_type": "markdown",
   "metadata": {},
   "source": [
    "### 2. Calculate the final accuracy."
   ]
  },
  {
   "cell_type": "code",
   "execution_count": 30,
   "metadata": {},
   "outputs": [
    {
     "name": "stdout",
     "output_type": "stream",
     "text": [
      "Total accuracy: 0.9289940828402367\n"
     ]
    }
   ],
   "source": [
    "y_pred = random_forest.predict(X_test)\n",
    "\n",
    "print('Total accuracy:', metrics.accuracy_score(y_pred, y_test))"
   ]
  },
  {
   "cell_type": "markdown",
   "metadata": {},
   "source": [
    "### 3. Analyze: for which weekday your model makes the most errors (in % of the total number of samples of that class in your test dataset)."
   ]
  },
  {
   "cell_type": "code",
   "execution_count": 31,
   "metadata": {},
   "outputs": [
    {
     "name": "stdout",
     "output_type": "stream",
     "text": [
      "Most wrong predicted day: 0\n"
     ]
    }
   ],
   "source": [
    "most_wrong_predicted = y_test[y_test != y_pred].value_counts().reset_index().iloc[0]\n",
    "print(f'Most wrong predicted day: {most_wrong_predicted[\"index\"]}')\n"
   ]
  },
  {
   "cell_type": "code",
   "execution_count": 32,
   "metadata": {},
   "outputs": [
    {
     "name": "stdout",
     "output_type": "stream",
     "text": [
      "Total percentage of errors in predicting this day: 25.925925925925924\n"
     ]
    }
   ],
   "source": [
    "total_errors_frequency = most_wrong_predicted[\"dayofweek\"] / y_test.value_counts()[most_wrong_predicted[\"index\"]] * 100\n",
    "print(f'Total percentage of errors in predicting this day: {total_errors_frequency}')"
   ]
  },
  {
   "cell_type": "markdown",
   "metadata": {},
   "source": [
    "### 4. Save the model.\n"
   ]
  },
  {
   "cell_type": "code",
   "execution_count": 33,
   "metadata": {},
   "outputs": [],
   "source": [
    "with open('../data/random_forest_classifier.pkl', 'wb') as fout:\n",
    "    pickle.dump(random_forest, fout)"
   ]
  },
  {
   "cell_type": "code",
   "execution_count": 34,
   "metadata": {},
   "outputs": [
    {
     "name": "stdout",
     "output_type": "stream",
     "text": [
      "../data/random_forest_classifier.pkl\n"
     ]
    }
   ],
   "source": [
    "%ls ../data/random_forest_classifier.pkl"
   ]
  }
 ],
 "metadata": {
  "kernelspec": {
   "display_name": "Python 3",
   "language": "python",
   "name": "python3"
  },
  "language_info": {
   "codemirror_mode": {
    "name": "ipython",
    "version": 3
   },
   "file_extension": ".py",
   "mimetype": "text/x-python",
   "name": "python",
   "nbconvert_exporter": "python",
   "pygments_lexer": "ipython3",
   "version": "3.7.8"
  }
 },
 "nbformat": 4,
 "nbformat_minor": 4
}
